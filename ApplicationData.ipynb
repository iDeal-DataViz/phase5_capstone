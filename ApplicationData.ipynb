{
 "cells": [
  {
   "cell_type": "code",
   "execution_count": 41,
   "id": "31f9a75c-8677-47e1-bbd7-0c7541475fbe",
   "metadata": {},
   "outputs": [
    {
     "name": "stdout",
     "output_type": "stream",
     "text": [
      "Collecting category_encoders\n",
      "  Downloading category_encoders-2.8.1-py3-none-any.whl.metadata (7.9 kB)\n",
      "Requirement already satisfied: numpy>=1.14.0 in /home/techvia/anaconda3/lib/python3.12/site-packages (from category_encoders) (1.26.4)\n",
      "Requirement already satisfied: pandas>=1.0.5 in /home/techvia/anaconda3/lib/python3.12/site-packages (from category_encoders) (2.2.2)\n",
      "Requirement already satisfied: patsy>=0.5.1 in /home/techvia/anaconda3/lib/python3.12/site-packages (from category_encoders) (0.5.6)\n",
      "Collecting scikit-learn>=1.6.0 (from category_encoders)\n",
      "  Downloading scikit_learn-1.6.1-cp312-cp312-manylinux_2_17_x86_64.manylinux2014_x86_64.whl.metadata (18 kB)\n",
      "Requirement already satisfied: scipy>=1.0.0 in /home/techvia/anaconda3/lib/python3.12/site-packages (from category_encoders) (1.13.1)\n",
      "Requirement already satisfied: statsmodels>=0.9.0 in /home/techvia/anaconda3/lib/python3.12/site-packages (from category_encoders) (0.14.2)\n",
      "Requirement already satisfied: python-dateutil>=2.8.2 in /home/techvia/anaconda3/lib/python3.12/site-packages (from pandas>=1.0.5->category_encoders) (2.9.0.post0)\n",
      "Requirement already satisfied: pytz>=2020.1 in /home/techvia/anaconda3/lib/python3.12/site-packages (from pandas>=1.0.5->category_encoders) (2024.1)\n",
      "Requirement already satisfied: tzdata>=2022.7 in /home/techvia/anaconda3/lib/python3.12/site-packages (from pandas>=1.0.5->category_encoders) (2023.3)\n",
      "Requirement already satisfied: six in /home/techvia/anaconda3/lib/python3.12/site-packages (from patsy>=0.5.1->category_encoders) (1.17.0)\n",
      "Requirement already satisfied: joblib>=1.2.0 in /home/techvia/anaconda3/lib/python3.12/site-packages (from scikit-learn>=1.6.0->category_encoders) (1.4.2)\n",
      "Requirement already satisfied: threadpoolctl>=3.1.0 in /home/techvia/anaconda3/lib/python3.12/site-packages (from scikit-learn>=1.6.0->category_encoders) (3.5.0)\n",
      "Requirement already satisfied: packaging>=21.3 in /home/techvia/anaconda3/lib/python3.12/site-packages (from statsmodels>=0.9.0->category_encoders) (24.2)\n",
      "Downloading category_encoders-2.8.1-py3-none-any.whl (85 kB)\n",
      "Downloading scikit_learn-1.6.1-cp312-cp312-manylinux_2_17_x86_64.manylinux2014_x86_64.whl (13.1 MB)\n",
      "\u001b[2K   \u001b[38;2;114;156;31m━━━━━━━━━━━━━━━━━━━━━━━━━━━━━━━━━━━━━━━━\u001b[0m \u001b[32m13.1/13.1 MB\u001b[0m \u001b[31m1.6 MB/s\u001b[0m eta \u001b[36m0:00:00\u001b[0mm eta \u001b[36m0:00:01\u001b[0m0:01\u001b[0m:01\u001b[0m\n",
      "\u001b[?25hInstalling collected packages: scikit-learn, category_encoders\n",
      "  Attempting uninstall: scikit-learn\n",
      "    Found existing installation: scikit-learn 1.5.1\n",
      "    Uninstalling scikit-learn-1.5.1:\n",
      "      Successfully uninstalled scikit-learn-1.5.1\n",
      "Successfully installed category_encoders-2.8.1 scikit-learn-1.6.1\n"
     ]
    }
   ],
   "source": [
    "!pip install category_encoders"
   ]
  },
  {
   "cell_type": "code",
   "execution_count": 43,
   "id": "52203998-c06e-46e4-82d1-2526c936506a",
   "metadata": {},
   "outputs": [],
   "source": [
    "import pandas as pd\n",
    "from sklearn.impute import SimpleImputer\n",
    "import numpy as np\n",
    "import matplotlib.pyplot as plt"
   ]
  },
  {
   "cell_type": "code",
   "execution_count": 2,
   "id": "f116bebb-d0c2-47c1-b7a2-e0b4dae920b3",
   "metadata": {},
   "outputs": [],
   "source": [
    "application_df = pd.read_csv(\"ApplicationData.csv\")"
   ]
  },
  {
   "cell_type": "code",
   "execution_count": 3,
   "id": "3c954313-9786-4644-852f-1f93d6ad3ea1",
   "metadata": {},
   "outputs": [
    {
     "name": "stdout",
     "output_type": "stream",
     "text": [
      "<class 'pandas.core.frame.DataFrame'>\n",
      "RangeIndex: 9492 entries, 0 to 9491\n",
      "Data columns (total 16 columns):\n",
      " #   Column                                         Non-Null Count  Dtype  \n",
      "---  ------                                         --------------  -----  \n",
      " 0   Application_ID                                 9492 non-null   object \n",
      " 1   Application_Date                               9492 non-null   object \n",
      " 2   Loan_Approval_Status                           9354 non-null   object \n",
      " 3   Age_at_Application                             9471 non-null   float64\n",
      " 4   Marital_Status                                 7712 non-null   object \n",
      " 5   Gender                                         9488 non-null   object \n",
      " 6   Own_Rent_Home                                  8188 non-null   object \n",
      " 7   Occupation_Professional_Category               9361 non-null   object \n",
      " 8   Type_of_Business_Industry_of_Employment        7210 non-null   object \n",
      " 9   Employment_Status                              9357 non-null   object \n",
      " 10  Time_at_Current_Employment_(Months)            9260 non-null   float64\n",
      " 11  Time_Employed_with_Previous_Employer_(Months)  298 non-null    float64\n",
      " 12  Number_of_Dependents                           7678 non-null   float64\n",
      " 13  Loan_Purpose                                   9450 non-null   object \n",
      " 14  Monthly_Income                                 9492 non-null   float64\n",
      " 15  Government_Employee                            9311 non-null   object \n",
      "dtypes: float64(5), object(11)\n",
      "memory usage: 1.2+ MB\n"
     ]
    }
   ],
   "source": [
    "application_df.info()"
   ]
  },
  {
   "cell_type": "code",
   "execution_count": 4,
   "id": "51c2b237-13b9-4dce-a8a5-537fb34ff6e4",
   "metadata": {},
   "outputs": [
    {
     "data": {
      "text/html": [
       "<div>\n",
       "<style scoped>\n",
       "    .dataframe tbody tr th:only-of-type {\n",
       "        vertical-align: middle;\n",
       "    }\n",
       "\n",
       "    .dataframe tbody tr th {\n",
       "        vertical-align: top;\n",
       "    }\n",
       "\n",
       "    .dataframe thead th {\n",
       "        text-align: right;\n",
       "    }\n",
       "</style>\n",
       "<table border=\"1\" class=\"dataframe\">\n",
       "  <thead>\n",
       "    <tr style=\"text-align: right;\">\n",
       "      <th></th>\n",
       "      <th>Application_ID</th>\n",
       "      <th>Application_Date</th>\n",
       "      <th>Loan_Approval_Status</th>\n",
       "      <th>Age_at_Application</th>\n",
       "      <th>Marital_Status</th>\n",
       "      <th>Gender</th>\n",
       "      <th>Own_Rent_Home</th>\n",
       "      <th>Occupation_Professional_Category</th>\n",
       "      <th>Type_of_Business_Industry_of_Employment</th>\n",
       "      <th>Employment_Status</th>\n",
       "      <th>Time_at_Current_Employment_(Months)</th>\n",
       "      <th>Time_Employed_with_Previous_Employer_(Months)</th>\n",
       "      <th>Number_of_Dependents</th>\n",
       "      <th>Loan_Purpose</th>\n",
       "      <th>Monthly_Income</th>\n",
       "      <th>Government_Employee</th>\n",
       "    </tr>\n",
       "  </thead>\n",
       "  <tbody>\n",
       "    <tr>\n",
       "      <th>0</th>\n",
       "      <td>C302100001</td>\n",
       "      <td>2015-09-15</td>\n",
       "      <td>Approved</td>\n",
       "      <td>39.0</td>\n",
       "      <td>Unmarried</td>\n",
       "      <td>Female</td>\n",
       "      <td>Own</td>\n",
       "      <td>NaN</td>\n",
       "      <td>Other</td>\n",
       "      <td>Full-Time</td>\n",
       "      <td>6.0</td>\n",
       "      <td>NaN</td>\n",
       "      <td>2.0</td>\n",
       "      <td>Home Improvement</td>\n",
       "      <td>1500.59</td>\n",
       "      <td>NaN</td>\n",
       "    </tr>\n",
       "    <tr>\n",
       "      <th>1</th>\n",
       "      <td>C302100002</td>\n",
       "      <td>2015-08-31</td>\n",
       "      <td>Approved</td>\n",
       "      <td>29.0</td>\n",
       "      <td>Unmarried</td>\n",
       "      <td>Female</td>\n",
       "      <td>Family</td>\n",
       "      <td>NaN</td>\n",
       "      <td>NaN</td>\n",
       "      <td>Full-Time</td>\n",
       "      <td>25.0</td>\n",
       "      <td>NaN</td>\n",
       "      <td>0.0</td>\n",
       "      <td>Debt Consolidation</td>\n",
       "      <td>3769.36</td>\n",
       "      <td>NaN</td>\n",
       "    </tr>\n",
       "    <tr>\n",
       "      <th>2</th>\n",
       "      <td>C302100003</td>\n",
       "      <td>2015-09-21</td>\n",
       "      <td>Approved</td>\n",
       "      <td>24.0</td>\n",
       "      <td>Unmarried</td>\n",
       "      <td>Male</td>\n",
       "      <td>Family</td>\n",
       "      <td>NaN</td>\n",
       "      <td>NaN</td>\n",
       "      <td>Full-Time</td>\n",
       "      <td>7.0</td>\n",
       "      <td>NaN</td>\n",
       "      <td>0.0</td>\n",
       "      <td>Home Improvement</td>\n",
       "      <td>2197.10</td>\n",
       "      <td>NaN</td>\n",
       "    </tr>\n",
       "    <tr>\n",
       "      <th>3</th>\n",
       "      <td>C302100004</td>\n",
       "      <td>2015-11-14</td>\n",
       "      <td>Approved</td>\n",
       "      <td>54.0</td>\n",
       "      <td>Unmarried</td>\n",
       "      <td>Male</td>\n",
       "      <td>Rent</td>\n",
       "      <td>NaN</td>\n",
       "      <td>NaN</td>\n",
       "      <td>Full-Time</td>\n",
       "      <td>105.0</td>\n",
       "      <td>NaN</td>\n",
       "      <td>4.0</td>\n",
       "      <td>Debt Consolidation</td>\n",
       "      <td>1094.45</td>\n",
       "      <td>False</td>\n",
       "    </tr>\n",
       "    <tr>\n",
       "      <th>4</th>\n",
       "      <td>C302100005</td>\n",
       "      <td>2015-11-18</td>\n",
       "      <td>Approved</td>\n",
       "      <td>30.0</td>\n",
       "      <td>Unmarried</td>\n",
       "      <td>Female</td>\n",
       "      <td>Family</td>\n",
       "      <td>NaN</td>\n",
       "      <td>NaN</td>\n",
       "      <td>Full-Time</td>\n",
       "      <td>60.0</td>\n",
       "      <td>NaN</td>\n",
       "      <td>1.0</td>\n",
       "      <td>Vacation</td>\n",
       "      <td>3798.40</td>\n",
       "      <td>True</td>\n",
       "    </tr>\n",
       "  </tbody>\n",
       "</table>\n",
       "</div>"
      ],
      "text/plain": [
       "  Application_ID Application_Date Loan_Approval_Status  Age_at_Application  \\\n",
       "0     C302100001       2015-09-15             Approved                39.0   \n",
       "1     C302100002       2015-08-31             Approved                29.0   \n",
       "2     C302100003       2015-09-21             Approved                24.0   \n",
       "3     C302100004       2015-11-14             Approved                54.0   \n",
       "4     C302100005       2015-11-18             Approved                30.0   \n",
       "\n",
       "  Marital_Status  Gender Own_Rent_Home Occupation_Professional_Category  \\\n",
       "0      Unmarried  Female           Own                              NaN   \n",
       "1      Unmarried  Female        Family                              NaN   \n",
       "2      Unmarried    Male        Family                              NaN   \n",
       "3      Unmarried    Male          Rent                              NaN   \n",
       "4      Unmarried  Female        Family                              NaN   \n",
       "\n",
       "  Type_of_Business_Industry_of_Employment Employment_Status  \\\n",
       "0                                   Other         Full-Time   \n",
       "1                                     NaN         Full-Time   \n",
       "2                                     NaN         Full-Time   \n",
       "3                                     NaN         Full-Time   \n",
       "4                                     NaN         Full-Time   \n",
       "\n",
       "   Time_at_Current_Employment_(Months)  \\\n",
       "0                                  6.0   \n",
       "1                                 25.0   \n",
       "2                                  7.0   \n",
       "3                                105.0   \n",
       "4                                 60.0   \n",
       "\n",
       "   Time_Employed_with_Previous_Employer_(Months)  Number_of_Dependents  \\\n",
       "0                                            NaN                   2.0   \n",
       "1                                            NaN                   0.0   \n",
       "2                                            NaN                   0.0   \n",
       "3                                            NaN                   4.0   \n",
       "4                                            NaN                   1.0   \n",
       "\n",
       "         Loan_Purpose  Monthly_Income Government_Employee  \n",
       "0    Home Improvement         1500.59                 NaN  \n",
       "1  Debt Consolidation         3769.36                 NaN  \n",
       "2    Home Improvement         2197.10                 NaN  \n",
       "3  Debt Consolidation         1094.45               False  \n",
       "4            Vacation         3798.40                True  "
      ]
     },
     "execution_count": 4,
     "metadata": {},
     "output_type": "execute_result"
    }
   ],
   "source": [
    "application_df.head()"
   ]
  },
  {
   "cell_type": "code",
   "execution_count": 5,
   "id": "f0306d92-e5cd-4371-92bc-6e70e9e64c90",
   "metadata": {},
   "outputs": [
    {
     "data": {
      "text/html": [
       "<div>\n",
       "<style scoped>\n",
       "    .dataframe tbody tr th:only-of-type {\n",
       "        vertical-align: middle;\n",
       "    }\n",
       "\n",
       "    .dataframe tbody tr th {\n",
       "        vertical-align: top;\n",
       "    }\n",
       "\n",
       "    .dataframe thead th {\n",
       "        text-align: right;\n",
       "    }\n",
       "</style>\n",
       "<table border=\"1\" class=\"dataframe\">\n",
       "  <thead>\n",
       "    <tr style=\"text-align: right;\">\n",
       "      <th></th>\n",
       "      <th>Age_at_Application</th>\n",
       "      <th>Time_at_Current_Employment_(Months)</th>\n",
       "      <th>Time_Employed_with_Previous_Employer_(Months)</th>\n",
       "      <th>Number_of_Dependents</th>\n",
       "      <th>Monthly_Income</th>\n",
       "    </tr>\n",
       "  </thead>\n",
       "  <tbody>\n",
       "    <tr>\n",
       "      <th>count</th>\n",
       "      <td>9471.000000</td>\n",
       "      <td>9260.000000</td>\n",
       "      <td>298.000000</td>\n",
       "      <td>7678.000000</td>\n",
       "      <td>9.492000e+03</td>\n",
       "    </tr>\n",
       "    <tr>\n",
       "      <th>mean</th>\n",
       "      <td>34.817443</td>\n",
       "      <td>90.205400</td>\n",
       "      <td>62.432886</td>\n",
       "      <td>0.905314</td>\n",
       "      <td>3.065575e+04</td>\n",
       "    </tr>\n",
       "    <tr>\n",
       "      <th>std</th>\n",
       "      <td>9.703598</td>\n",
       "      <td>303.204377</td>\n",
       "      <td>66.225743</td>\n",
       "      <td>1.086836</td>\n",
       "      <td>2.169866e+06</td>\n",
       "    </tr>\n",
       "    <tr>\n",
       "      <th>min</th>\n",
       "      <td>18.000000</td>\n",
       "      <td>1.000000</td>\n",
       "      <td>1.000000</td>\n",
       "      <td>0.000000</td>\n",
       "      <td>0.000000e+00</td>\n",
       "    </tr>\n",
       "    <tr>\n",
       "      <th>25%</th>\n",
       "      <td>27.000000</td>\n",
       "      <td>24.000000</td>\n",
       "      <td>18.000000</td>\n",
       "      <td>0.000000</td>\n",
       "      <td>1.562260e+03</td>\n",
       "    </tr>\n",
       "    <tr>\n",
       "      <th>50%</th>\n",
       "      <td>33.000000</td>\n",
       "      <td>55.000000</td>\n",
       "      <td>38.000000</td>\n",
       "      <td>1.000000</td>\n",
       "      <td>2.474360e+03</td>\n",
       "    </tr>\n",
       "    <tr>\n",
       "      <th>75%</th>\n",
       "      <td>41.000000</td>\n",
       "      <td>126.000000</td>\n",
       "      <td>79.750000</td>\n",
       "      <td>1.000000</td>\n",
       "      <td>4.061930e+03</td>\n",
       "    </tr>\n",
       "    <tr>\n",
       "      <th>max</th>\n",
       "      <td>69.000000</td>\n",
       "      <td>24203.000000</td>\n",
       "      <td>419.000000</td>\n",
       "      <td>13.000000</td>\n",
       "      <td>2.056265e+08</td>\n",
       "    </tr>\n",
       "  </tbody>\n",
       "</table>\n",
       "</div>"
      ],
      "text/plain": [
       "       Age_at_Application  Time_at_Current_Employment_(Months)  \\\n",
       "count         9471.000000                          9260.000000   \n",
       "mean            34.817443                            90.205400   \n",
       "std              9.703598                           303.204377   \n",
       "min             18.000000                             1.000000   \n",
       "25%             27.000000                            24.000000   \n",
       "50%             33.000000                            55.000000   \n",
       "75%             41.000000                           126.000000   \n",
       "max             69.000000                         24203.000000   \n",
       "\n",
       "       Time_Employed_with_Previous_Employer_(Months)  Number_of_Dependents  \\\n",
       "count                                     298.000000           7678.000000   \n",
       "mean                                       62.432886              0.905314   \n",
       "std                                        66.225743              1.086836   \n",
       "min                                         1.000000              0.000000   \n",
       "25%                                        18.000000              0.000000   \n",
       "50%                                        38.000000              1.000000   \n",
       "75%                                        79.750000              1.000000   \n",
       "max                                       419.000000             13.000000   \n",
       "\n",
       "       Monthly_Income  \n",
       "count    9.492000e+03  \n",
       "mean     3.065575e+04  \n",
       "std      2.169866e+06  \n",
       "min      0.000000e+00  \n",
       "25%      1.562260e+03  \n",
       "50%      2.474360e+03  \n",
       "75%      4.061930e+03  \n",
       "max      2.056265e+08  "
      ]
     },
     "execution_count": 5,
     "metadata": {},
     "output_type": "execute_result"
    }
   ],
   "source": [
    "application_df.describe()"
   ]
  },
  {
   "cell_type": "code",
   "execution_count": 6,
   "id": "38bd7b89-b4dc-485b-bafd-16c247ae7f31",
   "metadata": {},
   "outputs": [
    {
     "data": {
      "text/plain": [
       "0"
      ]
     },
     "execution_count": 6,
     "metadata": {},
     "output_type": "execute_result"
    }
   ],
   "source": [
    "application_df.duplicated().sum()"
   ]
  },
  {
   "cell_type": "code",
   "execution_count": 7,
   "id": "78d6b386-70cd-4f99-b168-97aefb87c3ad",
   "metadata": {},
   "outputs": [
    {
     "data": {
      "text/plain": [
       "Application_ID                                    0.000000\n",
       "Application_Date                                  0.000000\n",
       "Loan_Approval_Status                              1.453856\n",
       "Age_at_Application                                0.221239\n",
       "Marital_Status                                   18.752634\n",
       "Gender                                            0.042141\n",
       "Own_Rent_Home                                    13.737885\n",
       "Occupation_Professional_Category                  1.380110\n",
       "Type_of_Business_Industry_of_Employment          24.041298\n",
       "Employment_Status                                 1.422250\n",
       "Time_at_Current_Employment_(Months)               2.444164\n",
       "Time_Employed_with_Previous_Employer_(Months)    96.860514\n",
       "Number_of_Dependents                             19.110830\n",
       "Loan_Purpose                                      0.442478\n",
       "Monthly_Income                                    0.000000\n",
       "Government_Employee                               1.906869\n",
       "dtype: float64"
      ]
     },
     "execution_count": 7,
     "metadata": {},
     "output_type": "execute_result"
    }
   ],
   "source": [
    "application_df.isnull().sum() / len(application_df) * 100"
   ]
  },
  {
   "cell_type": "markdown",
   "id": "7d55e6f4-44ac-4395-98e8-932a0f9f9f61",
   "metadata": {},
   "source": [
    "# Data Cleaning"
   ]
  },
  {
   "cell_type": "code",
   "execution_count": 11,
   "id": "b8283fbd-25c5-4349-b0bb-977e81885d61",
   "metadata": {},
   "outputs": [],
   "source": [
    "application_clean_df = application_df.copy()"
   ]
  },
  {
   "cell_type": "code",
   "execution_count": 15,
   "id": "fa564d6d-a10f-44de-a976-ed7d5b396113",
   "metadata": {},
   "outputs": [],
   "source": [
    "# columns with <5% missing\n",
    "categorical_missing = [\n",
    "    \"Gender\",\n",
    "    \"Loan_Purpose\",\n",
    "    \"Loan_Approval_Status\",\n",
    "    \"Employment_Status\",\n",
    "    \"Occupation_Professional_Category\",\n",
    "    \"Government_Employee\"\n",
    "]"
   ]
  },
  {
   "cell_type": "code",
   "execution_count": 16,
   "id": "c5916a29-3b29-4216-af25-306f3f29c1cc",
   "metadata": {},
   "outputs": [],
   "source": [
    "numerical_missing = [\"Age_at_Application\"]"
   ]
  },
  {
   "cell_type": "markdown",
   "id": "b990253c-9994-468f-b086-52f756e392c1",
   "metadata": {},
   "source": [
    "# Categorical Imputation with Unknown (<5%)\n",
    "### We are using Unknown instead of Mode because Unknown works better for modeling"
   ]
  },
  {
   "cell_type": "code",
   "execution_count": 17,
   "id": "fec9a87d-b149-46ce-b4bc-c7f7ea304284",
   "metadata": {},
   "outputs": [],
   "source": [
    "# Impute categorical features with Unknown\n",
    "application_clean_df[categorical_missing] = application_clean_df[categorical_missing].fillna(\"Unknown\")"
   ]
  },
  {
   "cell_type": "markdown",
   "id": "73fe18c4-d85e-46ce-bef9-1dea29341e26",
   "metadata": {},
   "source": [
    "# Numerical Imputation with Median(<5%>)\n",
    "### We are using SimpleImputer so it integrates well into a pipeline later:"
   ]
  },
  {
   "cell_type": "code",
   "execution_count": 18,
   "id": "f7251f37-1d81-4a89-99c6-687d40fcbe34",
   "metadata": {},
   "outputs": [],
   "source": [
    "# Impute Age_at_Application with median\n",
    "num_imputer = SimpleImputer(strategy=\"median\")\n",
    "application_clean_df[['Age_at_Application']] = num_imputer.fit_transform(application_clean_df[['Age_at_Application']])"
   ]
  },
  {
   "cell_type": "code",
   "execution_count": 20,
   "id": "e5689041-5d46-411c-bb43-c0007b0c0e47",
   "metadata": {},
   "outputs": [
    {
     "data": {
      "text/plain": [
       "Application_ID                                    0.000000\n",
       "Application_Date                                  0.000000\n",
       "Loan_Approval_Status                              0.000000\n",
       "Age_at_Application                                0.000000\n",
       "Marital_Status                                   18.752634\n",
       "Gender                                            0.000000\n",
       "Own_Rent_Home                                    13.737885\n",
       "Occupation_Professional_Category                  0.000000\n",
       "Type_of_Business_Industry_of_Employment          24.041298\n",
       "Employment_Status                                 0.000000\n",
       "Time_at_Current_Employment_(Months)               2.444164\n",
       "Time_Employed_with_Previous_Employer_(Months)    96.860514\n",
       "Number_of_Dependents                             19.110830\n",
       "Loan_Purpose                                      0.000000\n",
       "Monthly_Income                                    0.000000\n",
       "Government_Employee                               0.000000\n",
       "dtype: float64"
      ]
     },
     "execution_count": 20,
     "metadata": {},
     "output_type": "execute_result"
    }
   ],
   "source": [
    "application_clean_df.isnull().sum() / len(application_df) * 100"
   ]
  },
  {
   "cell_type": "markdown",
   "id": "ba991ca9-e4a8-48a3-b280-cbfc36e9227b",
   "metadata": {},
   "source": [
    "# Cleaning Columns with missing values of (5-25%)"
   ]
  },
  {
   "cell_type": "markdown",
   "id": "cf472da7-05f1-40bd-bf52-874e2c9c1000",
   "metadata": {},
   "source": [
    "### Create Missingness Indicator for Categorical Columns\n",
    "We create a new column for each moderately missing feature to indicate whether the original value was missing because, if the borrower didn't provide marital status or housing info might be a subtle indicator of risk or profile."
   ]
  },
  {
   "cell_type": "code",
   "execution_count": 21,
   "id": "06c6ad6e-0cc4-487f-bd2b-28178cfa2189",
   "metadata": {},
   "outputs": [],
   "source": [
    "# Create binary flags: 1 if missing, 0 if not\n",
    "application_clean_df['Marital_Status_Missing'] = application_clean_df['Marital_Status'].isnull().astype(int)\n",
    "application_clean_df['Own_Rent_Home_Missing'] = application_clean_df['Own_Rent_Home'].isnull().astype(int)\n",
    "application_clean_df['Type_of_Business_Missing'] = application_clean_df['Type_of_Business_Industry_of_Employment'].isnull().astype(int)\n",
    "application_clean_df['Number_of_Dependents_Missing'] = application_clean_df['Number_of_Dependents'].isnull().astype(int)"
   ]
  },
  {
   "cell_type": "markdown",
   "id": "fa99774f-7dbb-46ec-ade1-1c631b546f88",
   "metadata": {},
   "source": [
    "# We’ll impute them with the most common value (mode) or Unknown"
   ]
  },
  {
   "cell_type": "code",
   "execution_count": 22,
   "id": "23136fd4-a610-4293-97e9-a32bdb5b4fa8",
   "metadata": {},
   "outputs": [
    {
     "name": "stderr",
     "output_type": "stream",
     "text": [
      "/tmp/ipykernel_5563/2288069194.py:2: FutureWarning: A value is trying to be set on a copy of a DataFrame or Series through chained assignment using an inplace method.\n",
      "The behavior will change in pandas 3.0. This inplace method will never work because the intermediate object on which we are setting values always behaves as a copy.\n",
      "\n",
      "For example, when doing 'df[col].method(value, inplace=True)', try using 'df.method({col: value}, inplace=True)' or df[col] = df[col].method(value) instead, to perform the operation inplace on the original object.\n",
      "\n",
      "\n",
      "  application_clean_df['Own_Rent_Home'].fillna(application_clean_df['Own_Rent_Home'].mode()[0], inplace=True)\n",
      "/tmp/ipykernel_5563/2288069194.py:3: FutureWarning: A value is trying to be set on a copy of a DataFrame or Series through chained assignment using an inplace method.\n",
      "The behavior will change in pandas 3.0. This inplace method will never work because the intermediate object on which we are setting values always behaves as a copy.\n",
      "\n",
      "For example, when doing 'df[col].method(value, inplace=True)', try using 'df.method({col: value}, inplace=True)' or df[col] = df[col].method(value) instead, to perform the operation inplace on the original object.\n",
      "\n",
      "\n",
      "  application_clean_df['Marital_Status'].fillna(application_clean_df['Marital_Status'].mode()[0], inplace=True)\n"
     ]
    }
   ],
   "source": [
    "# Option 1: Fill with the most frequent value (mode)\n",
    "application_clean_df['Own_Rent_Home'].fillna(application_clean_df['Own_Rent_Home'].mode()[0], inplace=True)\n",
    "application_clean_df['Marital_Status'].fillna(application_clean_df['Marital_Status'].mode()[0], inplace=True)"
   ]
  },
  {
   "cell_type": "markdown",
   "id": "17f6fda3-965a-471d-af86-b8025e00ee31",
   "metadata": {},
   "source": [
    "## We fill \"Type_of_Business_Industry_of_Employment\" with unknown because business types are diverse, and imputing with the mode could bias the model — keeping “Unknown” lets the model learn if “not disclosing” is meaningful."
   ]
  },
  {
   "cell_type": "code",
   "execution_count": 23,
   "id": "4393b829-a183-411e-9a2f-866a7d1941e6",
   "metadata": {},
   "outputs": [
    {
     "name": "stderr",
     "output_type": "stream",
     "text": [
      "/tmp/ipykernel_5563/3649398141.py:1: FutureWarning: A value is trying to be set on a copy of a DataFrame or Series through chained assignment using an inplace method.\n",
      "The behavior will change in pandas 3.0. This inplace method will never work because the intermediate object on which we are setting values always behaves as a copy.\n",
      "\n",
      "For example, when doing 'df[col].method(value, inplace=True)', try using 'df.method({col: value}, inplace=True)' or df[col] = df[col].method(value) instead, to perform the operation inplace on the original object.\n",
      "\n",
      "\n",
      "  application_clean_df['Type_of_Business_Industry_of_Employment'].fillna(\"Unknown\", inplace=True)\n"
     ]
    }
   ],
   "source": [
    "application_clean_df['Type_of_Business_Industry_of_Employment'].fillna(\"Unknown\", inplace=True)"
   ]
  },
  {
   "cell_type": "code",
   "execution_count": 28,
   "id": "4f59aee6-c19b-4c59-8902-0f8f8a71ffc3",
   "metadata": {},
   "outputs": [
    {
     "name": "stderr",
     "output_type": "stream",
     "text": [
      "/tmp/ipykernel_5563/567817505.py:1: FutureWarning: A value is trying to be set on a copy of a DataFrame or Series through chained assignment using an inplace method.\n",
      "The behavior will change in pandas 3.0. This inplace method will never work because the intermediate object on which we are setting values always behaves as a copy.\n",
      "\n",
      "For example, when doing 'df[col].method(value, inplace=True)', try using 'df.method({col: value}, inplace=True)' or df[col] = df[col].method(value) instead, to perform the operation inplace on the original object.\n",
      "\n",
      "\n",
      "  application_clean_df['Time_at_Current_Employment_(Months)'].fillna(application_clean_df['Time_at_Current_Employment_(Months)'].median(), inplace=True)\n"
     ]
    }
   ],
   "source": [
    "application_clean_df['Time_at_Current_Employment_(Months)'].fillna(application_clean_df['Time_at_Current_Employment_(Months)'].median(), inplace=True)"
   ]
  },
  {
   "cell_type": "markdown",
   "id": "aa9094f6-ee8c-4bca-9308-73c3e2eece3b",
   "metadata": {},
   "source": [
    "# Impute Numerical Columns with Median.\n",
    "### For 'Number_of_Dependents', which is numeric, use the median (resistant to outliers)."
   ]
  },
  {
   "cell_type": "code",
   "execution_count": 24,
   "id": "f963634a-d12b-401e-8c50-0686d153c7db",
   "metadata": {},
   "outputs": [
    {
     "name": "stderr",
     "output_type": "stream",
     "text": [
      "/tmp/ipykernel_5563/1977501398.py:1: FutureWarning: A value is trying to be set on a copy of a DataFrame or Series through chained assignment using an inplace method.\n",
      "The behavior will change in pandas 3.0. This inplace method will never work because the intermediate object on which we are setting values always behaves as a copy.\n",
      "\n",
      "For example, when doing 'df[col].method(value, inplace=True)', try using 'df.method({col: value}, inplace=True)' or df[col] = df[col].method(value) instead, to perform the operation inplace on the original object.\n",
      "\n",
      "\n",
      "  application_clean_df['Number_of_Dependents'].fillna(application_clean_df['Number_of_Dependents'].median(), inplace=True)\n"
     ]
    }
   ],
   "source": [
    "application_clean_df['Number_of_Dependents'].fillna(application_clean_df['Number_of_Dependents'].median(), inplace=True)"
   ]
  },
  {
   "cell_type": "markdown",
   "id": "8929cc2d-ab2b-4ccc-88e4-5f146c379c3b",
   "metadata": {},
   "source": [
    "# Drop with High missingness(96.86%) "
   ]
  },
  {
   "cell_type": "code",
   "execution_count": 25,
   "id": "57d11503-bca0-4516-8459-56c442a25527",
   "metadata": {},
   "outputs": [],
   "source": [
    "application_clean_df.drop(columns=['Time_Employed_with_Previous_Employer_(Months)'], inplace=True)"
   ]
  },
  {
   "cell_type": "code",
   "execution_count": 29,
   "id": "216cc842-e9af-4830-9563-942c43527b93",
   "metadata": {},
   "outputs": [
    {
     "data": {
      "text/plain": [
       "Application_ID                             0.0\n",
       "Application_Date                           0.0\n",
       "Loan_Approval_Status                       0.0\n",
       "Age_at_Application                         0.0\n",
       "Marital_Status                             0.0\n",
       "Gender                                     0.0\n",
       "Own_Rent_Home                              0.0\n",
       "Occupation_Professional_Category           0.0\n",
       "Type_of_Business_Industry_of_Employment    0.0\n",
       "Employment_Status                          0.0\n",
       "Time_at_Current_Employment_(Months)        0.0\n",
       "Number_of_Dependents                       0.0\n",
       "Loan_Purpose                               0.0\n",
       "Monthly_Income                             0.0\n",
       "Government_Employee                        0.0\n",
       "Marital_Status_Missing                     0.0\n",
       "Own_Rent_Home_Missing                      0.0\n",
       "Type_of_Business_Missing                   0.0\n",
       "Number_of_Dependents_Missing               0.0\n",
       "dtype: float64"
      ]
     },
     "execution_count": 29,
     "metadata": {},
     "output_type": "execute_result"
    }
   ],
   "source": [
    "application_clean_df.isnull().sum() / len(application_df) * 100"
   ]
  },
  {
   "cell_type": "markdown",
   "id": "3e7a82fe-57c0-4170-94af-6ef0a683efc7",
   "metadata": {},
   "source": [
    "# Handle Outliers and Skewed Features"
   ]
  },
  {
   "cell_type": "markdown",
   "id": "839f0e85-a176-4add-a650-4771fd158174",
   "metadata": {},
   "source": [
    "## Monthly_Income is very skewed with unrealistic max values \n",
    "## The Mean is much higher than the median this shows right skew (some incomes are extremely high)\n",
    "\n",
    "## Time_at_Current_Employment_(Months) → has extreme outliers (like someone working for 2,000 years!)"
   ]
  },
  {
   "cell_type": "code",
   "execution_count": 26,
   "id": "dee64737-7018-45c7-a515-ac72fff23bf5",
   "metadata": {},
   "outputs": [
    {
     "data": {
      "text/plain": [
       "count    9.492000e+03\n",
       "mean     3.065575e+04\n",
       "std      2.169866e+06\n",
       "min      0.000000e+00\n",
       "25%      1.562260e+03\n",
       "50%      2.474360e+03\n",
       "75%      4.061930e+03\n",
       "max      2.056265e+08\n",
       "Name: Monthly_Income, dtype: float64"
      ]
     },
     "execution_count": 26,
     "metadata": {},
     "output_type": "execute_result"
    }
   ],
   "source": [
    "# Check the outliers\n",
    "application_clean_df[\"Monthly_Income\"].describe()"
   ]
  },
  {
   "cell_type": "markdown",
   "id": "2a5b45ff-4d19-4c0d-9d07-2a0417888992",
   "metadata": {},
   "source": [
    "# Cap the outliers (99th percentile)\n",
    "### This is called winsorization — we limit extreme values so they don’t affect the model too much."
   ]
  },
  {
   "cell_type": "code",
   "execution_count": 30,
   "id": "cbbb025a-195e-4da0-a59d-156aea448e63",
   "metadata": {},
   "outputs": [],
   "source": [
    "# Calculate the 99th percentile value\n",
    "income_cap = application_clean_df['Monthly_Income'].quantile(0.99)\n",
    "\n",
    "# Cap everything above that to the 99th percentile\n",
    "application_clean_df['Monthly_Income_Capped'] = application_clean_df['Monthly_Income'].clip(upper=income_cap)"
   ]
  },
  {
   "cell_type": "markdown",
   "id": "5f45d891-bf39-49c1-b62e-5dba3e75412c",
   "metadata": {},
   "source": [
    "# Apply log transformation\n",
    "## This helps shrink big values and spread out smaller ones so the model learns better."
   ]
  },
  {
   "cell_type": "code",
   "execution_count": 32,
   "id": "79766f78-a45a-49b8-a360-e5594b6035a6",
   "metadata": {},
   "outputs": [],
   "source": [
    "# Add 1 to avoid log(0) error\n",
    "application_clean_df['Monthly_Income_Log'] = np.log1p(application_clean_df['Monthly_Income_Capped'])"
   ]
  },
  {
   "cell_type": "markdown",
   "id": "ab513cbf-efd4-4500-88df-52ce8eeaca71",
   "metadata": {},
   "source": [
    "# Handling Time_at_Current_Employment_(Months)\n",
    "\n",
    "### Someone has been working 24,203 months = 2000 years.\n",
    "\n",
    "### These values can confuse models"
   ]
  },
  {
   "cell_type": "markdown",
   "id": "e84fb575-54ed-4f5d-9293-ab6d66fbed15",
   "metadata": {},
   "source": [
    "# Set a reasonable upper limit\n",
    "## Let’s assume 480 months (40 years) is the upper bound for employment, assuming he started working at 20 and retires at 60."
   ]
  },
  {
   "cell_type": "code",
   "execution_count": 33,
   "id": "c3e62a87-840d-4403-8b2d-6567aaf32341",
   "metadata": {},
   "outputs": [],
   "source": [
    "# Cap values above 40 years (480 months)\n",
    "application_clean_df['Employment_Time_Capped'] = application_clean_df['Time_at_Current_Employment_(Months)'].clip(upper=480)"
   ]
  },
  {
   "cell_type": "markdown",
   "id": "f873f38a-e77a-448b-b17d-a52a53674800",
   "metadata": {},
   "source": [
    "# Encode Categorical Variables"
   ]
  },
  {
   "cell_type": "markdown",
   "id": "3a0ce088-9b32-4244-8bb2-454e18437406",
   "metadata": {},
   "source": [
    "### We will use One-Hot Encoding for categories that are <= 10, i.e Gender, Marital_Status, Own_Rent_Home\n",
    "### We will use Target Encoding for categories that are > 10, i.e Occupation_Professional_Category, Type_of_Business"
   ]
  },
  {
   "cell_type": "markdown",
   "id": "25529440-a51e-4aa0-8184-810ee5eecc0d",
   "metadata": {},
   "source": [
    "# One-Hot Encoding"
   ]
  },
  {
   "cell_type": "code",
   "execution_count": 38,
   "id": "c619f2dd-b049-4762-9109-d5eeaf0abaab",
   "metadata": {},
   "outputs": [],
   "source": [
    "# Use pandas get_dummies for simple one-hot encoding\n",
    "categorical_cols = ['Gender', 'Marital_Status', 'Own_Rent_Home', 'Employment_Status', 'Loan_Purpose']\n",
    "df_encoded = pd.get_dummies(application_clean_df, columns=categorical_cols, drop_first=True)"
   ]
  },
  {
   "cell_type": "markdown",
   "id": "ee32694a-91cc-46a6-a9ea-b2ff37ca6b4a",
   "metadata": {},
   "source": [
    "# Binary Encoding (Manual for Government_Employee)"
   ]
  },
  {
   "cell_type": "code",
   "execution_count": 39,
   "id": "ee5c6948-a686-4db6-83d8-41de71bd00d9",
   "metadata": {},
   "outputs": [],
   "source": [
    "df_encoded['Government_Employee'] = application_clean_df['Government_Employee'].map({'Yes': 1, 'No': 0, 'Unknown': 0})"
   ]
  },
  {
   "cell_type": "code",
   "execution_count": null,
   "id": "d8cb31f8-cb81-4fae-a297-d621f87beecd",
   "metadata": {},
   "outputs": [],
   "source": [
    "# Target Encoding (for high-cardinality columns)\n",
    "## This replaces each category with the mean target value (e.g., default rate for that group).\n",
    "\n",
    "### Step 1: Split data first to avoid data leakage!"
   ]
  },
  {
   "cell_type": "markdown",
   "id": "1ad53cd9-cfe1-49be-a4ef-9c0f090744b6",
   "metadata": {},
   "source": [
    "#  Feature Engineering"
   ]
  },
  {
   "cell_type": "markdown",
   "id": "366a885a-1f6f-4b6a-9fbf-c1ff01cd2ed3",
   "metadata": {},
   "source": [
    "# Employment Stability Score\n",
    "### Combines how long someone has worked at their current job with whether they are employed or not.\n",
    "### If Employed → use time worked\n",
    "### If Unemployed or Unknown → assign lower or 0 score"
   ]
  },
  {
   "cell_type": "code",
   "execution_count": 50,
   "id": "57b871fe-d20e-4e7d-9e2c-affa862a239a",
   "metadata": {},
   "outputs": [],
   "source": [
    "def compute_employment_stability(row):\n",
    "    if row['Employment_Status'] in ['Employed', 'Self-employed']:\n",
    "        return row['Time_at_Current_Employment_(Months)']\n",
    "    else:\n",
    "        return 0  # or a small penalty like -1 if you want to distinguish unemployment\n",
    "\n",
    "application_clean_df['Employment_Stability_Score'] = application_clean_df.apply(compute_employment_stability, axis=1)"
   ]
  },
  {
   "cell_type": "markdown",
   "id": "5f69e2ab-a5a1-4fb0-9958-83cf361c830c",
   "metadata": {},
   "source": [
    "# Age Bins Feature\n",
    "### Categorizing age into buckets helps some models better understand relationships."
   ]
  },
  {
   "cell_type": "code",
   "execution_count": 51,
   "id": "1ecfaf01-9660-41d6-b7dc-687a246fef94",
   "metadata": {},
   "outputs": [],
   "source": [
    "def categorize_age(age):\n",
    "    if age < 25:\n",
    "        return 'Young'\n",
    "    elif age < 35:\n",
    "        return 'Emerging'\n",
    "    elif age < 50:\n",
    "        return 'Established'\n",
    "    else:\n",
    "        return 'Senior'\n",
    "\n",
    "application_clean_df['Age_Bin'] = application_clean_df['Age_at_Application'].apply(categorize_age)"
   ]
  },
  {
   "cell_type": "markdown",
   "id": "43eec83e-867d-466e-a8e8-626dfa1f6516",
   "metadata": {},
   "source": [
    "# Has Dependents Flag Feature\n",
    "### Indicates whether the person financially supports others.\n",
    "### Has_Dependents = 1 if Number_of_Dependents > 0 else 0"
   ]
  },
  {
   "cell_type": "code",
   "execution_count": 52,
   "id": "c4521a4e-1a08-45e5-ab6e-fced90852ac6",
   "metadata": {},
   "outputs": [],
   "source": [
    "application_clean_df['Has_Dependents'] = (application_clean_df['Number_of_Dependents'] > 0).astype(int)"
   ]
  },
  {
   "cell_type": "markdown",
   "id": "5af1bbd4-b98a-4161-ae3a-30b26f761536",
   "metadata": {},
   "source": [
    "# Convert to datetime"
   ]
  },
  {
   "cell_type": "code",
   "execution_count": 54,
   "id": "9cd7be01-9c58-4d15-ac0d-745ed935265f",
   "metadata": {},
   "outputs": [
    {
     "name": "stdout",
     "output_type": "stream",
     "text": [
      "Number of invalid dates after conversion: 1363\n"
     ]
    }
   ],
   "source": [
    "# Convert Application_Date to datetime format\n",
    "application_clean_df['Application_Date'] = pd.to_datetime(application_clean_df['Application_Date'], errors='coerce')\n",
    "\n",
    "# Check if any dates failed to convert\n",
    "invalid_dates = application_clean_df['Application_Date'].isna().sum()\n",
    "print(f\"Number of invalid dates after conversion: {invalid_dates}\")"
   ]
  },
  {
   "cell_type": "code",
   "execution_count": 55,
   "id": "43809188-b673-48ea-b103-5ab9d11035a6",
   "metadata": {},
   "outputs": [
    {
     "name": "stdout",
     "output_type": "stream",
     "text": [
      "    Application_ID Application_Date\n",
      "115     C302100116              NaT\n",
      "116     C302100117              NaT\n",
      "117     C302100118              NaT\n",
      "118     C302100119              NaT\n",
      "119     C302100120              NaT\n"
     ]
    }
   ],
   "source": [
    "# View rows where Application_Date couldn't be parsed\n",
    "invalid_date_rows = application_clean_df[application_clean_df['Application_Date'].isna()]\n",
    "print(invalid_date_rows[['Application_ID', 'Application_Date']].head())"
   ]
  },
  {
   "cell_type": "code",
   "execution_count": 56,
   "id": "070f6d37-3144-4ea3-85f3-af2b9b6fa609",
   "metadata": {},
   "outputs": [],
   "source": [
    "application_clean_df.to_csv(\"clean_application_data.csv\", index = False)"
   ]
  },
  {
   "cell_type": "code",
   "execution_count": 57,
   "id": "7a8d395d-0eb0-4474-b606-892c36744ae7",
   "metadata": {},
   "outputs": [
    {
     "name": "stdout",
     "output_type": "stream",
     "text": [
      "<class 'pandas.core.frame.DataFrame'>\n",
      "RangeIndex: 9492 entries, 0 to 9491\n",
      "Data columns (total 25 columns):\n",
      " #   Column                                   Non-Null Count  Dtype  \n",
      "---  ------                                   --------------  -----  \n",
      " 0   Application_ID                           9492 non-null   object \n",
      " 1   Application_Date                         8129 non-null   object \n",
      " 2   Loan_Approval_Status                     9492 non-null   object \n",
      " 3   Age_at_Application                       9492 non-null   float64\n",
      " 4   Marital_Status                           9492 non-null   object \n",
      " 5   Gender                                   9492 non-null   object \n",
      " 6   Own_Rent_Home                            9492 non-null   object \n",
      " 7   Occupation_Professional_Category         9492 non-null   object \n",
      " 8   Type_of_Business_Industry_of_Employment  9492 non-null   object \n",
      " 9   Employment_Status                        9492 non-null   object \n",
      " 10  Time_at_Current_Employment_(Months)      9492 non-null   float64\n",
      " 11  Number_of_Dependents                     9492 non-null   float64\n",
      " 12  Loan_Purpose                             9492 non-null   object \n",
      " 13  Monthly_Income                           9492 non-null   float64\n",
      " 14  Government_Employee                      9492 non-null   object \n",
      " 15  Marital_Status_Missing                   9492 non-null   int64  \n",
      " 16  Own_Rent_Home_Missing                    9492 non-null   int64  \n",
      " 17  Type_of_Business_Missing                 9492 non-null   int64  \n",
      " 18  Number_of_Dependents_Missing             9492 non-null   int64  \n",
      " 19  Monthly_Income_Capped                    9492 non-null   float64\n",
      " 20  Monthly_Income_Log                       9492 non-null   float64\n",
      " 21  Employment_Time_Capped                   9492 non-null   float64\n",
      " 22  Employment_Stability_Score               9492 non-null   int64  \n",
      " 23  Age_Bin                                  9492 non-null   object \n",
      " 24  Has_Dependents                           9492 non-null   int64  \n",
      "dtypes: float64(7), int64(6), object(12)\n",
      "memory usage: 1.8+ MB\n"
     ]
    }
   ],
   "source": [
    "cad = pd.read_csv(\"clean_application_data.csv\")\n",
    "cad.info()"
   ]
  },
  {
   "cell_type": "code",
   "execution_count": null,
   "id": "65e8d675-ea30-462b-a82f-b9d283a15a0a",
   "metadata": {},
   "outputs": [],
   "source": []
  }
 ],
 "metadata": {
  "kernelspec": {
   "display_name": "Python 3 (ipykernel)",
   "language": "python",
   "name": "python3"
  },
  "language_info": {
   "codemirror_mode": {
    "name": "ipython",
    "version": 3
   },
   "file_extension": ".py",
   "mimetype": "text/x-python",
   "name": "python",
   "nbconvert_exporter": "python",
   "pygments_lexer": "ipython3",
   "version": "3.12.7"
  }
 },
 "nbformat": 4,
 "nbformat_minor": 5
}
