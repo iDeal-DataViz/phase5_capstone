{
 "cells": [
  {
   "cell_type": "code",
   "execution_count": 1,
   "id": "dbdd0955-f826-4974-a5ef-ed6753c0ac78",
   "metadata": {},
   "outputs": [],
   "source": [
    "import pandas as pd"
   ]
  },
  {
   "cell_type": "code",
   "execution_count": 2,
   "id": "5cc34000-a309-4061-b3e1-01bed165ba18",
   "metadata": {},
   "outputs": [],
   "source": [
    "contract_snapshot_df = pd.read_csv(\"ContractsSnapshotData.csv\")"
   ]
  },
  {
   "cell_type": "code",
   "execution_count": 3,
   "id": "ec74f12a-d45f-4f3e-9ad2-738a7cadec6c",
   "metadata": {},
   "outputs": [
    {
     "data": {
      "text/html": [
       "<div>\n",
       "<style scoped>\n",
       "    .dataframe tbody tr th:only-of-type {\n",
       "        vertical-align: middle;\n",
       "    }\n",
       "\n",
       "    .dataframe tbody tr th {\n",
       "        vertical-align: top;\n",
       "    }\n",
       "\n",
       "    .dataframe thead th {\n",
       "        text-align: right;\n",
       "    }\n",
       "</style>\n",
       "<table border=\"1\" class=\"dataframe\">\n",
       "  <thead>\n",
       "    <tr style=\"text-align: right;\">\n",
       "      <th></th>\n",
       "      <th>Contract_ID</th>\n",
       "      <th>Snapshot Date</th>\n",
       "      <th>Outstanding Amount</th>\n",
       "      <th>Due Amount</th>\n",
       "      <th>Number of Days Past Due</th>\n",
       "      <th>Contract Status</th>\n",
       "    </tr>\n",
       "  </thead>\n",
       "  <tbody>\n",
       "    <tr>\n",
       "      <th>0</th>\n",
       "      <td>CONT109375</td>\n",
       "      <td>2018-12-31</td>\n",
       "      <td>0.00</td>\n",
       "      <td>0.0</td>\n",
       "      <td>NaN</td>\n",
       "      <td>Closed</td>\n",
       "    </tr>\n",
       "    <tr>\n",
       "      <th>1</th>\n",
       "      <td>CONT109376</td>\n",
       "      <td>2006-08-31</td>\n",
       "      <td>215.08</td>\n",
       "      <td>0.0</td>\n",
       "      <td>NaN</td>\n",
       "      <td>Active</td>\n",
       "    </tr>\n",
       "    <tr>\n",
       "      <th>2</th>\n",
       "      <td>CONT109376</td>\n",
       "      <td>2006-09-30</td>\n",
       "      <td>215.08</td>\n",
       "      <td>0.0</td>\n",
       "      <td>NaN</td>\n",
       "      <td>Active</td>\n",
       "    </tr>\n",
       "    <tr>\n",
       "      <th>3</th>\n",
       "      <td>CONT109376</td>\n",
       "      <td>2006-10-31</td>\n",
       "      <td>215.08</td>\n",
       "      <td>0.0</td>\n",
       "      <td>NaN</td>\n",
       "      <td>Active</td>\n",
       "    </tr>\n",
       "    <tr>\n",
       "      <th>4</th>\n",
       "      <td>CONT109376</td>\n",
       "      <td>2006-11-30</td>\n",
       "      <td>215.08</td>\n",
       "      <td>0.0</td>\n",
       "      <td>NaN</td>\n",
       "      <td>Active</td>\n",
       "    </tr>\n",
       "  </tbody>\n",
       "</table>\n",
       "</div>"
      ],
      "text/plain": [
       "  Contract_ID Snapshot Date  Outstanding Amount  Due Amount  \\\n",
       "0  CONT109375    2018-12-31                0.00         0.0   \n",
       "1  CONT109376    2006-08-31              215.08         0.0   \n",
       "2  CONT109376    2006-09-30              215.08         0.0   \n",
       "3  CONT109376    2006-10-31              215.08         0.0   \n",
       "4  CONT109376    2006-11-30              215.08         0.0   \n",
       "\n",
       "   Number of Days Past Due Contract Status  \n",
       "0                      NaN          Closed  \n",
       "1                      NaN          Active  \n",
       "2                      NaN          Active  \n",
       "3                      NaN          Active  \n",
       "4                      NaN          Active  "
      ]
     },
     "execution_count": 3,
     "metadata": {},
     "output_type": "execute_result"
    }
   ],
   "source": [
    "contract_snapshot_df.head()"
   ]
  },
  {
   "cell_type": "code",
   "execution_count": 4,
   "id": "84459693-acfa-45ec-a88b-3f5b71805e50",
   "metadata": {},
   "outputs": [
    {
     "name": "stdout",
     "output_type": "stream",
     "text": [
      "<class 'pandas.core.frame.DataFrame'>\n",
      "RangeIndex: 274371 entries, 0 to 274370\n",
      "Data columns (total 6 columns):\n",
      " #   Column                   Non-Null Count   Dtype  \n",
      "---  ------                   --------------   -----  \n",
      " 0   Contract_ID              274371 non-null  object \n",
      " 1   Snapshot Date            274371 non-null  object \n",
      " 2   Outstanding Amount       274371 non-null  float64\n",
      " 3   Due Amount               274371 non-null  float64\n",
      " 4   Number of Days Past Due  79158 non-null   float64\n",
      " 5   Contract Status          274371 non-null  object \n",
      "dtypes: float64(3), object(3)\n",
      "memory usage: 12.6+ MB\n"
     ]
    }
   ],
   "source": [
    "contract_snapshot_df.info()"
   ]
  },
  {
   "cell_type": "code",
   "execution_count": 5,
   "id": "67298a44-35fd-421a-a6ba-30fc5d30484c",
   "metadata": {},
   "outputs": [
    {
     "data": {
      "text/plain": [
       "(274371, 6)"
      ]
     },
     "execution_count": 5,
     "metadata": {},
     "output_type": "execute_result"
    }
   ],
   "source": [
    "contract_snapshot_df.shape"
   ]
  },
  {
   "cell_type": "code",
   "execution_count": 6,
   "id": "744131ea-8fc0-4682-a720-adaf4f4063ce",
   "metadata": {},
   "outputs": [
    {
     "data": {
      "text/html": [
       "<div>\n",
       "<style scoped>\n",
       "    .dataframe tbody tr th:only-of-type {\n",
       "        vertical-align: middle;\n",
       "    }\n",
       "\n",
       "    .dataframe tbody tr th {\n",
       "        vertical-align: top;\n",
       "    }\n",
       "\n",
       "    .dataframe thead th {\n",
       "        text-align: right;\n",
       "    }\n",
       "</style>\n",
       "<table border=\"1\" class=\"dataframe\">\n",
       "  <thead>\n",
       "    <tr style=\"text-align: right;\">\n",
       "      <th></th>\n",
       "      <th>Outstanding Amount</th>\n",
       "      <th>Due Amount</th>\n",
       "      <th>Number of Days Past Due</th>\n",
       "    </tr>\n",
       "  </thead>\n",
       "  <tbody>\n",
       "    <tr>\n",
       "      <th>count</th>\n",
       "      <td>2.743710e+05</td>\n",
       "      <td>274371.000000</td>\n",
       "      <td>79158.000000</td>\n",
       "    </tr>\n",
       "    <tr>\n",
       "      <th>mean</th>\n",
       "      <td>2.516123e+04</td>\n",
       "      <td>384.217923</td>\n",
       "      <td>65.570606</td>\n",
       "    </tr>\n",
       "    <tr>\n",
       "      <th>std</th>\n",
       "      <td>4.084894e+04</td>\n",
       "      <td>2431.451256</td>\n",
       "      <td>141.958344</td>\n",
       "    </tr>\n",
       "    <tr>\n",
       "      <th>min</th>\n",
       "      <td>-7.087329e+04</td>\n",
       "      <td>0.000000</td>\n",
       "      <td>0.000000</td>\n",
       "    </tr>\n",
       "    <tr>\n",
       "      <th>25%</th>\n",
       "      <td>3.697200e+03</td>\n",
       "      <td>0.000000</td>\n",
       "      <td>0.000000</td>\n",
       "    </tr>\n",
       "    <tr>\n",
       "      <th>50%</th>\n",
       "      <td>1.123487e+04</td>\n",
       "      <td>0.000000</td>\n",
       "      <td>5.000000</td>\n",
       "    </tr>\n",
       "    <tr>\n",
       "      <th>75%</th>\n",
       "      <td>3.028738e+04</td>\n",
       "      <td>1.760000</td>\n",
       "      <td>60.000000</td>\n",
       "    </tr>\n",
       "    <tr>\n",
       "      <th>max</th>\n",
       "      <td>1.059941e+06</td>\n",
       "      <td>211534.630000</td>\n",
       "      <td>1765.000000</td>\n",
       "    </tr>\n",
       "  </tbody>\n",
       "</table>\n",
       "</div>"
      ],
      "text/plain": [
       "       Outstanding Amount     Due Amount  Number of Days Past Due\n",
       "count        2.743710e+05  274371.000000             79158.000000\n",
       "mean         2.516123e+04     384.217923                65.570606\n",
       "std          4.084894e+04    2431.451256               141.958344\n",
       "min         -7.087329e+04       0.000000                 0.000000\n",
       "25%          3.697200e+03       0.000000                 0.000000\n",
       "50%          1.123487e+04       0.000000                 5.000000\n",
       "75%          3.028738e+04       1.760000                60.000000\n",
       "max          1.059941e+06  211534.630000              1765.000000"
      ]
     },
     "execution_count": 6,
     "metadata": {},
     "output_type": "execute_result"
    }
   ],
   "source": [
    "contract_snapshot_df.describe()"
   ]
  },
  {
   "cell_type": "code",
   "execution_count": 7,
   "id": "cb5a9af3-e35f-416b-83b5-9d1862e24cee",
   "metadata": {},
   "outputs": [
    {
     "data": {
      "text/plain": [
       "Contract_ID  Snapshot Date  Outstanding Amount  Due Amount  Number of Days Past Due  Contract Status\n",
       "CONT113921   2015-02-29     447.15              447.15      3.0                      Active             2\n",
       "CONT113904   2015-02-29     0.00                0.00        0.0                      Active             2\n",
       "CONT113917   2015-02-29     1979.93             0.00        0.0                      Active             2\n",
       "CONT113911   2015-02-29     2343.73             122.23      0.0                      Active             2\n",
       "CONT113878   2015-02-29     170.50              79.84       0.0                      Active             2\n",
       "                                                                                                       ..\n",
       "CONT108634   202-1-06-30    1336.76             138.26      12.0                     Active             1\n",
       "             202-1-05-31    1453.97             136.37      13.0                     Active             1\n",
       "             202-1-03-31    1685.25             151.61      13.0                     Active             1\n",
       "CONT108633   202-1-08-31    8482.32             10868.65    432.0                    NonAccrual         1\n",
       "CONT108652   2013-02-28     6278.36             545.23      30.0                     Active             1\n",
       "Name: count, Length: 79074, dtype: int64"
      ]
     },
     "execution_count": 7,
     "metadata": {},
     "output_type": "execute_result"
    }
   ],
   "source": [
    "contract_snapshot_df.value_counts()"
   ]
  },
  {
   "cell_type": "code",
   "execution_count": 8,
   "id": "d0b32986-ea5e-4629-8a82-b2dfd5feb263",
   "metadata": {},
   "outputs": [
    {
     "data": {
      "text/plain": [
       "84"
      ]
     },
     "execution_count": 8,
     "metadata": {},
     "output_type": "execute_result"
    }
   ],
   "source": [
    "contract_snapshot_df.duplicated().sum()"
   ]
  },
  {
   "cell_type": "code",
   "execution_count": 9,
   "id": "d75f3af3-b745-4a97-ad9e-7b8bdacf2faa",
   "metadata": {},
   "outputs": [
    {
     "data": {
      "text/plain": [
       "Contract_ID                 0.000000\n",
       "Snapshot Date               0.000000\n",
       "Outstanding Amount          0.000000\n",
       "Due Amount                  0.000000\n",
       "Number of Days Past Due    71.149283\n",
       "Contract Status             0.000000\n",
       "dtype: float64"
      ]
     },
     "execution_count": 9,
     "metadata": {},
     "output_type": "execute_result"
    }
   ],
   "source": [
    "contract_snapshot_df.isnull().sum() / len(contract_snapshot_df) * 100"
   ]
  },
  {
   "cell_type": "markdown",
   "id": "c2c13e20-eadf-45db-b427-e3343f150022",
   "metadata": {},
   "source": [
    "# Cleaning & Preparation"
   ]
  },
  {
   "cell_type": "code",
   "execution_count": 10,
   "id": "cbca5b4c-8434-4fcd-8c82-fe0154eeca02",
   "metadata": {},
   "outputs": [],
   "source": [
    "clean_contract_snapshot_df = contract_snapshot_df.copy()"
   ]
  },
  {
   "cell_type": "code",
   "execution_count": 11,
   "id": "505e4e1a-cb52-47d3-a48c-4663be096a32",
   "metadata": {},
   "outputs": [
    {
     "name": "stdout",
     "output_type": "stream",
     "text": [
      "<class 'pandas.core.frame.DataFrame'>\n",
      "RangeIndex: 274371 entries, 0 to 274370\n",
      "Data columns (total 6 columns):\n",
      " #   Column                   Non-Null Count   Dtype  \n",
      "---  ------                   --------------   -----  \n",
      " 0   Contract_ID              274371 non-null  object \n",
      " 1   Snapshot Date            274371 non-null  object \n",
      " 2   Outstanding Amount       274371 non-null  float64\n",
      " 3   Due Amount               274371 non-null  float64\n",
      " 4   Number of Days Past Due  79158 non-null   float64\n",
      " 5   Contract Status          274371 non-null  object \n",
      "dtypes: float64(3), object(3)\n",
      "memory usage: 12.6+ MB\n"
     ]
    }
   ],
   "source": [
    "clean_contract_snapshot_df.info()"
   ]
  },
  {
   "cell_type": "markdown",
   "id": "901ed9ce-80fa-49c8-882e-4e89dc05b040",
   "metadata": {},
   "source": [
    "# Drop Duplicates"
   ]
  },
  {
   "cell_type": "code",
   "execution_count": 12,
   "id": "d0d65963-7151-4523-820e-28e8f7fee892",
   "metadata": {},
   "outputs": [],
   "source": [
    "clean_contract_snapshot_df.drop_duplicates(inplace=True)"
   ]
  },
  {
   "cell_type": "markdown",
   "id": "6cf0218e-b406-499d-94d9-7ab3e2693ef0",
   "metadata": {},
   "source": [
    "# Fix Malformed Snapshot Date"
   ]
  },
  {
   "cell_type": "code",
   "execution_count": 13,
   "id": "e122113b-5a7a-42b9-b247-b18f98b9b10e",
   "metadata": {},
   "outputs": [
    {
     "name": "stdout",
     "output_type": "stream",
     "text": [
      "Invalid snapshot dates after fix: 13598\n"
     ]
    }
   ],
   "source": [
    "# Fix common malformed year format like '202-1' → '2021'\n",
    "clean_contract_snapshot_df['Snapshot Date'] = clean_contract_snapshot_df['Snapshot Date'].str.replace(\n",
    "    r'^202-1', '2021', regex=True\n",
    ")\n",
    "\n",
    "# Convert again\n",
    "clean_contract_snapshot_df['Snapshot Date'] = pd.to_datetime(\n",
    "    clean_contract_snapshot_df['Snapshot Date'], errors='coerce'\n",
    ")\n",
    "\n",
    "# Recheck invalid dates\n",
    "print(\"Invalid snapshot dates after fix:\", clean_contract_snapshot_df['Snapshot Date'].isna().sum())"
   ]
  },
  {
   "cell_type": "code",
   "execution_count": 14,
   "id": "0a1f97e9-3c80-4ee3-9388-27f77d9fa9aa",
   "metadata": {},
   "outputs": [],
   "source": [
    "clean_contract_snapshot_df = clean_contract_snapshot_df[clean_contract_snapshot_df['Snapshot Date'].notna()]"
   ]
  },
  {
   "cell_type": "code",
   "execution_count": 15,
   "id": "4d57ef0f-0f42-4598-a683-2059d88fe865",
   "metadata": {},
   "outputs": [
    {
     "name": "stdout",
     "output_type": "stream",
     "text": [
      "Invalid snapshot dates: 0\n"
     ]
    }
   ],
   "source": [
    "# Count bad dates\n",
    "print(\"Invalid snapshot dates:\", clean_contract_snapshot_df['Snapshot Date'].isna().sum())"
   ]
  },
  {
   "cell_type": "markdown",
   "id": "6edf0262-7ea3-4b7b-aa98-98d5431145c4",
   "metadata": {},
   "source": [
    "# Inspect and Handle Number of Days Past Due\n",
    "## 71% missing, This means most loans are not past due"
   ]
  },
  {
   "cell_type": "code",
   "execution_count": 16,
   "id": "8afc0aca-ed67-4e68-a263-2628dfc02a64",
   "metadata": {},
   "outputs": [
    {
     "name": "stderr",
     "output_type": "stream",
     "text": [
      "/tmp/ipykernel_26946/4078704469.py:1: FutureWarning: A value is trying to be set on a copy of a DataFrame or Series through chained assignment using an inplace method.\n",
      "The behavior will change in pandas 3.0. This inplace method will never work because the intermediate object on which we are setting values always behaves as a copy.\n",
      "\n",
      "For example, when doing 'df[col].method(value, inplace=True)', try using 'df.method({col: value}, inplace=True)' or df[col] = df[col].method(value) instead, to perform the operation inplace on the original object.\n",
      "\n",
      "\n",
      "  clean_contract_snapshot_df['Number of Days Past Due'].fillna(0, inplace=True)\n"
     ]
    }
   ],
   "source": [
    "clean_contract_snapshot_df['Number of Days Past Due'].fillna(0, inplace=True)"
   ]
  },
  {
   "cell_type": "markdown",
   "id": "a65260bc-3ad2-405f-a70b-eb7c5f03366c",
   "metadata": {},
   "source": [
    "# Handle Negative Outstanding Amount"
   ]
  },
  {
   "cell_type": "code",
   "execution_count": 17,
   "id": "1d62d237-fab7-44dd-a84f-7f6f55b13b5a",
   "metadata": {},
   "outputs": [
    {
     "name": "stdout",
     "output_type": "stream",
     "text": [
      "Negative outstanding amounts: 1430\n"
     ]
    }
   ],
   "source": [
    "# Count negatives\n",
    "negatives = clean_contract_snapshot_df[clean_contract_snapshot_df['Outstanding Amount'] < 0]\n",
    "print(f\"Negative outstanding amounts: {len(negatives)}\")"
   ]
  },
  {
   "cell_type": "code",
   "execution_count": 20,
   "id": "bb4b79c9-7162-4136-895e-7bb2e889e708",
   "metadata": {},
   "outputs": [],
   "source": [
    "clean_contract_snapshot_df['Outstanding Amount'] = clean_contract_snapshot_df['Outstanding Amount'].clip(lower=0)"
   ]
  },
  {
   "cell_type": "markdown",
   "id": "f161e3c8-24fc-4994-8754-eb4508b44702",
   "metadata": {},
   "source": [
    "# Feature Engineering (Snapshot-Based)\n",
    "## Because this is time-series data, we need to reduce it to one row per contract for merging."
   ]
  },
  {
   "cell_type": "markdown",
   "id": "b12df20d-08ee-4464-97ed-3306b8d9d009",
   "metadata": {},
   "source": [
    "# Aggregate Snapshot Data by Contract_ID\n",
    "### We'll calculate summary stats that describe loan performance history up to the latest snapshot."
   ]
  },
  {
   "cell_type": "code",
   "execution_count": 22,
   "id": "e0d223a9-e367-4056-81cf-49c508e6a035",
   "metadata": {},
   "outputs": [],
   "source": [
    "agg_snapshot_df = clean_contract_snapshot_df.groupby('Contract_ID').agg({\n",
    "    'Outstanding Amount': ['max', 'mean', 'last'],\n",
    "    'Due Amount': ['max', 'mean'],\n",
    "    'Number of Days Past Due': ['max', 'mean', 'count'],\n",
    "    'Contract Status': lambda x: x.iloc[-1]  # status at latest snapshot\n",
    "})\n",
    "\n",
    "# Flatten column names\n",
    "agg_snapshot_df.columns = ['_'.join(col).strip() for col in agg_snapshot_df.columns.values]\n",
    "agg_snapshot_df.reset_index(inplace=True)\n"
   ]
  },
  {
   "cell_type": "markdown",
   "id": "94cf52d4-d933-4be4-9cfc-3e9e83ee0925",
   "metadata": {},
   "source": [
    "# New Feature Names Created:\n",
    "## Outstanding Amount_max, _mean, _last\n",
    "\n",
    "## Due Amount_max, _mean\n",
    "\n",
    "## Number of Days Past Due_max, _mean, _count\n",
    "\n",
    "## Contract_Status_last"
   ]
  },
  {
   "cell_type": "code",
   "execution_count": 23,
   "id": "a49aa89a-7349-4e93-9f6d-7169031afec5",
   "metadata": {},
   "outputs": [],
   "source": [
    "agg_snapshot_df.to_csv('clean_snapshot_summary.csv', index=False)"
   ]
  },
  {
   "cell_type": "code",
   "execution_count": null,
   "id": "e008bcba-158c-460d-9282-9bbf36d7a64c",
   "metadata": {},
   "outputs": [],
   "source": []
  }
 ],
 "metadata": {
  "kernelspec": {
   "display_name": "Python 3 (ipykernel)",
   "language": "python",
   "name": "python3"
  },
  "language_info": {
   "codemirror_mode": {
    "name": "ipython",
    "version": 3
   },
   "file_extension": ".py",
   "mimetype": "text/x-python",
   "name": "python",
   "nbconvert_exporter": "python",
   "pygments_lexer": "ipython3",
   "version": "3.12.7"
  }
 },
 "nbformat": 4,
 "nbformat_minor": 5
}
