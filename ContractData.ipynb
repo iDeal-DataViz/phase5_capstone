{
 "cells": [
  {
   "cell_type": "code",
   "execution_count": 1,
   "id": "59d70675-c632-4779-a90b-b57f44171713",
   "metadata": {},
   "outputs": [],
   "source": [
    "import pandas as pd"
   ]
  },
  {
   "cell_type": "code",
   "execution_count": 2,
   "id": "5721e623-d68f-4d08-ab49-2845337287a9",
   "metadata": {},
   "outputs": [],
   "source": [
    "contractdata_df = pd.read_csv(\"ContractsData.csv\")"
   ]
  },
  {
   "cell_type": "code",
   "execution_count": 8,
   "id": "b9acf077-739e-4ece-b12e-bb975d41fcfb",
   "metadata": {},
   "outputs": [
    {
     "data": {
      "text/html": [
       "<div>\n",
       "<style scoped>\n",
       "    .dataframe tbody tr th:only-of-type {\n",
       "        vertical-align: middle;\n",
       "    }\n",
       "\n",
       "    .dataframe tbody tr th {\n",
       "        vertical-align: top;\n",
       "    }\n",
       "\n",
       "    .dataframe thead th {\n",
       "        text-align: right;\n",
       "    }\n",
       "</style>\n",
       "<table border=\"1\" class=\"dataframe\">\n",
       "  <thead>\n",
       "    <tr style=\"text-align: right;\">\n",
       "      <th></th>\n",
       "      <th>Contract_ID</th>\n",
       "      <th>Application_ID</th>\n",
       "      <th>Key</th>\n",
       "      <th>Loan_Type</th>\n",
       "      <th>Contract_Start_Date</th>\n",
       "      <th>Expected_Contract_End_Date</th>\n",
       "      <th>Actual_Contract_End_Date</th>\n",
       "      <th>Loan_Term</th>\n",
       "      <th>Total_Loan_Amount</th>\n",
       "    </tr>\n",
       "  </thead>\n",
       "  <tbody>\n",
       "    <tr>\n",
       "      <th>0</th>\n",
       "      <td>CONT100001</td>\n",
       "      <td>C302103426</td>\n",
       "      <td>1</td>\n",
       "      <td>Unsecured Personal Loan</td>\n",
       "      <td>2018-04-12</td>\n",
       "      <td>2023-04-12</td>\n",
       "      <td>NaN</td>\n",
       "      <td>60 - Month(s)</td>\n",
       "      <td>24529.89</td>\n",
       "    </tr>\n",
       "    <tr>\n",
       "      <th>1</th>\n",
       "      <td>CONT100002</td>\n",
       "      <td>C302103426</td>\n",
       "      <td>2</td>\n",
       "      <td>Unsecured Personal Loan</td>\n",
       "      <td>2018-04-12</td>\n",
       "      <td>2023-04-12</td>\n",
       "      <td>NaN</td>\n",
       "      <td>60 - Month(s)</td>\n",
       "      <td>35085.79</td>\n",
       "    </tr>\n",
       "    <tr>\n",
       "      <th>2</th>\n",
       "      <td>CONT100003</td>\n",
       "      <td>C302107460</td>\n",
       "      <td>1</td>\n",
       "      <td>Unsecured Personal Loan</td>\n",
       "      <td>202-1-08-31</td>\n",
       "      <td>2024-09-01</td>\n",
       "      <td>NaN</td>\n",
       "      <td>60 - Month(s)</td>\n",
       "      <td>53564.88</td>\n",
       "    </tr>\n",
       "    <tr>\n",
       "      <th>3</th>\n",
       "      <td>CONT100004</td>\n",
       "      <td>C302107453</td>\n",
       "      <td>1</td>\n",
       "      <td>Unsecured Personal Loan</td>\n",
       "      <td>202-1-08-28</td>\n",
       "      <td>2023-08-28</td>\n",
       "      <td>NaN</td>\n",
       "      <td>48 - Month(s)</td>\n",
       "      <td>29073.86</td>\n",
       "    </tr>\n",
       "    <tr>\n",
       "      <th>4</th>\n",
       "      <td>CONT100005</td>\n",
       "      <td>C302107447</td>\n",
       "      <td>1</td>\n",
       "      <td>Unsecured Personal Loan</td>\n",
       "      <td>202-1-08-27</td>\n",
       "      <td>2023-08-27</td>\n",
       "      <td>NaN</td>\n",
       "      <td>48 - Month(s)</td>\n",
       "      <td>11723.33</td>\n",
       "    </tr>\n",
       "  </tbody>\n",
       "</table>\n",
       "</div>"
      ],
      "text/plain": [
       "  Contract_ID Application_ID  Key                Loan_Type  \\\n",
       "0  CONT100001     C302103426    1  Unsecured Personal Loan   \n",
       "1  CONT100002     C302103426    2  Unsecured Personal Loan   \n",
       "2  CONT100003     C302107460    1  Unsecured Personal Loan   \n",
       "3  CONT100004     C302107453    1  Unsecured Personal Loan   \n",
       "4  CONT100005     C302107447    1  Unsecured Personal Loan   \n",
       "\n",
       "  Contract_Start_Date Expected_Contract_End_Date Actual_Contract_End_Date  \\\n",
       "0          2018-04-12                 2023-04-12                      NaN   \n",
       "1          2018-04-12                 2023-04-12                      NaN   \n",
       "2         202-1-08-31                 2024-09-01                      NaN   \n",
       "3         202-1-08-28                 2023-08-28                      NaN   \n",
       "4         202-1-08-27                 2023-08-27                      NaN   \n",
       "\n",
       "       Loan_Term  Total_Loan_Amount  \n",
       "0  60 - Month(s)           24529.89  \n",
       "1  60 - Month(s)           35085.79  \n",
       "2  60 - Month(s)           53564.88  \n",
       "3  48 - Month(s)           29073.86  \n",
       "4  48 - Month(s)           11723.33  "
      ]
     },
     "execution_count": 8,
     "metadata": {},
     "output_type": "execute_result"
    }
   ],
   "source": [
    "contractdata_df.head()"
   ]
  },
  {
   "cell_type": "code",
   "execution_count": 10,
   "id": "4865e52f-593a-43f8-b147-9865bb00cd75",
   "metadata": {},
   "outputs": [
    {
     "data": {
      "text/plain": [
       "(9374, 9)"
      ]
     },
     "execution_count": 10,
     "metadata": {},
     "output_type": "execute_result"
    }
   ],
   "source": [
    "contractdata_df.shape"
   ]
  },
  {
   "cell_type": "code",
   "execution_count": 12,
   "id": "bffcba3a-05b5-49d5-beda-82d89a0f7d0a",
   "metadata": {},
   "outputs": [
    {
     "data": {
      "text/plain": [
       "1279"
      ]
     },
     "execution_count": 12,
     "metadata": {},
     "output_type": "execute_result"
    }
   ],
   "source": [
    "contractdata_df.value_counts().sum()"
   ]
  },
  {
   "cell_type": "code",
   "execution_count": 3,
   "id": "43a011f7-2f88-4d61-9674-26912a59de65",
   "metadata": {},
   "outputs": [
    {
     "name": "stdout",
     "output_type": "stream",
     "text": [
      "<class 'pandas.core.frame.DataFrame'>\n",
      "RangeIndex: 9374 entries, 0 to 9373\n",
      "Data columns (total 9 columns):\n",
      " #   Column                      Non-Null Count  Dtype  \n",
      "---  ------                      --------------  -----  \n",
      " 0   Contract_ID                 9374 non-null   object \n",
      " 1   Application_ID              7598 non-null   object \n",
      " 2   Key                         9374 non-null   int64  \n",
      " 3   Loan_Type                   9374 non-null   object \n",
      " 4   Contract_Start_Date         9374 non-null   object \n",
      " 5   Expected_Contract_End_Date  9374 non-null   object \n",
      " 6   Actual_Contract_End_Date    2593 non-null   object \n",
      " 7   Loan_Term                   9374 non-null   object \n",
      " 8   Total_Loan_Amount           9374 non-null   float64\n",
      "dtypes: float64(1), int64(1), object(7)\n",
      "memory usage: 659.2+ KB\n"
     ]
    }
   ],
   "source": [
    "contractdata_df.info()"
   ]
  },
  {
   "cell_type": "code",
   "execution_count": 4,
   "id": "fa53e3f9-39a1-4743-a2f2-97da0cdbc721",
   "metadata": {},
   "outputs": [
    {
     "data": {
      "text/html": [
       "<div>\n",
       "<style scoped>\n",
       "    .dataframe tbody tr th:only-of-type {\n",
       "        vertical-align: middle;\n",
       "    }\n",
       "\n",
       "    .dataframe tbody tr th {\n",
       "        vertical-align: top;\n",
       "    }\n",
       "\n",
       "    .dataframe thead th {\n",
       "        text-align: right;\n",
       "    }\n",
       "</style>\n",
       "<table border=\"1\" class=\"dataframe\">\n",
       "  <thead>\n",
       "    <tr style=\"text-align: right;\">\n",
       "      <th></th>\n",
       "      <th>Key</th>\n",
       "      <th>Total_Loan_Amount</th>\n",
       "    </tr>\n",
       "  </thead>\n",
       "  <tbody>\n",
       "    <tr>\n",
       "      <th>count</th>\n",
       "      <td>9374.000000</td>\n",
       "      <td>9374.000000</td>\n",
       "    </tr>\n",
       "    <tr>\n",
       "      <th>mean</th>\n",
       "      <td>1.302752</td>\n",
       "      <td>24271.437439</td>\n",
       "    </tr>\n",
       "    <tr>\n",
       "      <th>std</th>\n",
       "      <td>0.635954</td>\n",
       "      <td>23807.037921</td>\n",
       "    </tr>\n",
       "    <tr>\n",
       "      <th>min</th>\n",
       "      <td>1.000000</td>\n",
       "      <td>0.000000</td>\n",
       "    </tr>\n",
       "    <tr>\n",
       "      <th>25%</th>\n",
       "      <td>1.000000</td>\n",
       "      <td>8620.267500</td>\n",
       "    </tr>\n",
       "    <tr>\n",
       "      <th>50%</th>\n",
       "      <td>1.000000</td>\n",
       "      <td>15115.240000</td>\n",
       "    </tr>\n",
       "    <tr>\n",
       "      <th>75%</th>\n",
       "      <td>1.000000</td>\n",
       "      <td>30893.970000</td>\n",
       "    </tr>\n",
       "    <tr>\n",
       "      <th>max</th>\n",
       "      <td>4.000000</td>\n",
       "      <td>239137.160000</td>\n",
       "    </tr>\n",
       "  </tbody>\n",
       "</table>\n",
       "</div>"
      ],
      "text/plain": [
       "               Key  Total_Loan_Amount\n",
       "count  9374.000000        9374.000000\n",
       "mean      1.302752       24271.437439\n",
       "std       0.635954       23807.037921\n",
       "min       1.000000           0.000000\n",
       "25%       1.000000        8620.267500\n",
       "50%       1.000000       15115.240000\n",
       "75%       1.000000       30893.970000\n",
       "max       4.000000      239137.160000"
      ]
     },
     "execution_count": 4,
     "metadata": {},
     "output_type": "execute_result"
    }
   ],
   "source": [
    "contractdata_df.describe()"
   ]
  },
  {
   "cell_type": "code",
   "execution_count": 5,
   "id": "bc0d3180-b919-412a-b0ed-01799d5fae29",
   "metadata": {},
   "outputs": [
    {
     "data": {
      "text/plain": [
       "Contract_ID                    0.000000\n",
       "Application_ID                18.946021\n",
       "Key                            0.000000\n",
       "Loan_Type                      0.000000\n",
       "Contract_Start_Date            0.000000\n",
       "Expected_Contract_End_Date     0.000000\n",
       "Actual_Contract_End_Date      72.338383\n",
       "Loan_Term                      0.000000\n",
       "Total_Loan_Amount              0.000000\n",
       "dtype: float64"
      ]
     },
     "execution_count": 5,
     "metadata": {},
     "output_type": "execute_result"
    }
   ],
   "source": [
    "contractdata_df.isnull().sum() / len(contractdata_df) * 100"
   ]
  },
  {
   "cell_type": "code",
   "execution_count": 7,
   "id": "f118acc2-1410-420f-a31e-d553e32c3b37",
   "metadata": {},
   "outputs": [
    {
     "data": {
      "text/plain": [
       "0"
      ]
     },
     "execution_count": 7,
     "metadata": {},
     "output_type": "execute_result"
    }
   ],
   "source": [
    "contractdata_df.duplicated().sum()"
   ]
  },
  {
   "cell_type": "code",
   "execution_count": 14,
   "id": "16cd5f6a-894d-4984-86b6-5243b9f75118",
   "metadata": {},
   "outputs": [
    {
     "data": {
      "text/html": [
       "<div>\n",
       "<style scoped>\n",
       "    .dataframe tbody tr th:only-of-type {\n",
       "        vertical-align: middle;\n",
       "    }\n",
       "\n",
       "    .dataframe tbody tr th {\n",
       "        vertical-align: top;\n",
       "    }\n",
       "\n",
       "    .dataframe thead th {\n",
       "        text-align: right;\n",
       "    }\n",
       "</style>\n",
       "<table border=\"1\" class=\"dataframe\">\n",
       "  <thead>\n",
       "    <tr style=\"text-align: right;\">\n",
       "      <th></th>\n",
       "      <th>Contract_ID</th>\n",
       "      <th>Application_ID</th>\n",
       "      <th>Key</th>\n",
       "      <th>Loan_Type</th>\n",
       "      <th>Contract_Start_Date</th>\n",
       "      <th>Expected_Contract_End_Date</th>\n",
       "      <th>Actual_Contract_End_Date</th>\n",
       "      <th>Loan_Term</th>\n",
       "      <th>Total_Loan_Amount</th>\n",
       "    </tr>\n",
       "  </thead>\n",
       "  <tbody>\n",
       "    <tr>\n",
       "      <th>0</th>\n",
       "      <td>CONT100001</td>\n",
       "      <td>C302103426</td>\n",
       "      <td>1</td>\n",
       "      <td>Unsecured Personal Loan</td>\n",
       "      <td>2018-04-12</td>\n",
       "      <td>2023-04-12</td>\n",
       "      <td>NaN</td>\n",
       "      <td>60 - Month(s)</td>\n",
       "      <td>24529.89</td>\n",
       "    </tr>\n",
       "    <tr>\n",
       "      <th>1</th>\n",
       "      <td>CONT100002</td>\n",
       "      <td>C302103426</td>\n",
       "      <td>2</td>\n",
       "      <td>Unsecured Personal Loan</td>\n",
       "      <td>2018-04-12</td>\n",
       "      <td>2023-04-12</td>\n",
       "      <td>NaN</td>\n",
       "      <td>60 - Month(s)</td>\n",
       "      <td>35085.79</td>\n",
       "    </tr>\n",
       "    <tr>\n",
       "      <th>2</th>\n",
       "      <td>CONT100003</td>\n",
       "      <td>C302107460</td>\n",
       "      <td>1</td>\n",
       "      <td>Unsecured Personal Loan</td>\n",
       "      <td>202-1-08-31</td>\n",
       "      <td>2024-09-01</td>\n",
       "      <td>NaN</td>\n",
       "      <td>60 - Month(s)</td>\n",
       "      <td>53564.88</td>\n",
       "    </tr>\n",
       "    <tr>\n",
       "      <th>3</th>\n",
       "      <td>CONT100004</td>\n",
       "      <td>C302107453</td>\n",
       "      <td>1</td>\n",
       "      <td>Unsecured Personal Loan</td>\n",
       "      <td>202-1-08-28</td>\n",
       "      <td>2023-08-28</td>\n",
       "      <td>NaN</td>\n",
       "      <td>48 - Month(s)</td>\n",
       "      <td>29073.86</td>\n",
       "    </tr>\n",
       "    <tr>\n",
       "      <th>4</th>\n",
       "      <td>CONT100005</td>\n",
       "      <td>C302107447</td>\n",
       "      <td>1</td>\n",
       "      <td>Unsecured Personal Loan</td>\n",
       "      <td>202-1-08-27</td>\n",
       "      <td>2023-08-27</td>\n",
       "      <td>NaN</td>\n",
       "      <td>48 - Month(s)</td>\n",
       "      <td>11723.33</td>\n",
       "    </tr>\n",
       "    <tr>\n",
       "      <th>...</th>\n",
       "      <td>...</td>\n",
       "      <td>...</td>\n",
       "      <td>...</td>\n",
       "      <td>...</td>\n",
       "      <td>...</td>\n",
       "      <td>...</td>\n",
       "      <td>...</td>\n",
       "      <td>...</td>\n",
       "      <td>...</td>\n",
       "    </tr>\n",
       "    <tr>\n",
       "      <th>7593</th>\n",
       "      <td>CONT107594</td>\n",
       "      <td>C302101656</td>\n",
       "      <td>1</td>\n",
       "      <td>Unsecured Personal Loan</td>\n",
       "      <td>2017-09-10</td>\n",
       "      <td>2022-09-11</td>\n",
       "      <td>NaN</td>\n",
       "      <td>60 - Month(s)</td>\n",
       "      <td>25139.51</td>\n",
       "    </tr>\n",
       "    <tr>\n",
       "      <th>7594</th>\n",
       "      <td>CONT107595</td>\n",
       "      <td>C302106243</td>\n",
       "      <td>1</td>\n",
       "      <td>Unsecured Personal Loan</td>\n",
       "      <td>2018-12-04</td>\n",
       "      <td>2022-12-04</td>\n",
       "      <td>NaN</td>\n",
       "      <td>48 - Month(s)</td>\n",
       "      <td>17363.45</td>\n",
       "    </tr>\n",
       "    <tr>\n",
       "      <th>7595</th>\n",
       "      <td>CONT107596</td>\n",
       "      <td>C302102139</td>\n",
       "      <td>1</td>\n",
       "      <td>Unsecured Personal Loan</td>\n",
       "      <td>2017-10-18</td>\n",
       "      <td>2022-10-18</td>\n",
       "      <td>NaN</td>\n",
       "      <td>60 - Month(s)</td>\n",
       "      <td>29308.32</td>\n",
       "    </tr>\n",
       "    <tr>\n",
       "      <th>7596</th>\n",
       "      <td>CONT107597</td>\n",
       "      <td>C302107173</td>\n",
       "      <td>1</td>\n",
       "      <td>Unsecured Personal Loan</td>\n",
       "      <td>202-1-07-07</td>\n",
       "      <td>2024-07-07</td>\n",
       "      <td>NaN</td>\n",
       "      <td>60 - Month(s)</td>\n",
       "      <td>70339.98</td>\n",
       "    </tr>\n",
       "    <tr>\n",
       "      <th>7597</th>\n",
       "      <td>CONT107598</td>\n",
       "      <td>C302106712</td>\n",
       "      <td>1</td>\n",
       "      <td>Unsecured Personal Loan</td>\n",
       "      <td>202-1-02-13</td>\n",
       "      <td>2023-02-13</td>\n",
       "      <td>NaN</td>\n",
       "      <td>48 - Month(s)</td>\n",
       "      <td>12402.46</td>\n",
       "    </tr>\n",
       "  </tbody>\n",
       "</table>\n",
       "<p>7598 rows × 9 columns</p>\n",
       "</div>"
      ],
      "text/plain": [
       "     Contract_ID Application_ID  Key                Loan_Type  \\\n",
       "0     CONT100001     C302103426    1  Unsecured Personal Loan   \n",
       "1     CONT100002     C302103426    2  Unsecured Personal Loan   \n",
       "2     CONT100003     C302107460    1  Unsecured Personal Loan   \n",
       "3     CONT100004     C302107453    1  Unsecured Personal Loan   \n",
       "4     CONT100005     C302107447    1  Unsecured Personal Loan   \n",
       "...          ...            ...  ...                      ...   \n",
       "7593  CONT107594     C302101656    1  Unsecured Personal Loan   \n",
       "7594  CONT107595     C302106243    1  Unsecured Personal Loan   \n",
       "7595  CONT107596     C302102139    1  Unsecured Personal Loan   \n",
       "7596  CONT107597     C302107173    1  Unsecured Personal Loan   \n",
       "7597  CONT107598     C302106712    1  Unsecured Personal Loan   \n",
       "\n",
       "     Contract_Start_Date Expected_Contract_End_Date Actual_Contract_End_Date  \\\n",
       "0             2018-04-12                 2023-04-12                      NaN   \n",
       "1             2018-04-12                 2023-04-12                      NaN   \n",
       "2            202-1-08-31                 2024-09-01                      NaN   \n",
       "3            202-1-08-28                 2023-08-28                      NaN   \n",
       "4            202-1-08-27                 2023-08-27                      NaN   \n",
       "...                  ...                        ...                      ...   \n",
       "7593          2017-09-10                 2022-09-11                      NaN   \n",
       "7594          2018-12-04                 2022-12-04                      NaN   \n",
       "7595          2017-10-18                 2022-10-18                      NaN   \n",
       "7596         202-1-07-07                 2024-07-07                      NaN   \n",
       "7597         202-1-02-13                 2023-02-13                      NaN   \n",
       "\n",
       "          Loan_Term  Total_Loan_Amount  \n",
       "0     60 - Month(s)           24529.89  \n",
       "1     60 - Month(s)           35085.79  \n",
       "2     60 - Month(s)           53564.88  \n",
       "3     48 - Month(s)           29073.86  \n",
       "4     48 - Month(s)           11723.33  \n",
       "...             ...                ...  \n",
       "7593  60 - Month(s)           25139.51  \n",
       "7594  48 - Month(s)           17363.45  \n",
       "7595  60 - Month(s)           29308.32  \n",
       "7596  60 - Month(s)           70339.98  \n",
       "7597  48 - Month(s)           12402.46  \n",
       "\n",
       "[7598 rows x 9 columns]"
      ]
     },
     "execution_count": 14,
     "metadata": {},
     "output_type": "execute_result"
    }
   ],
   "source": [
    "# Optionally filter out contracts with no application link\n",
    "contracts_linked = contractdata_df[contractdata_df['Application_ID'].notna()]\n",
    "contracts_linked"
   ]
  },
  {
   "cell_type": "code",
   "execution_count": 15,
   "id": "8338e803-67d2-4183-8a76-1defad9790c7",
   "metadata": {},
   "outputs": [
    {
     "data": {
      "text/plain": [
       "Key\n",
       "1    7441\n",
       "2    1029\n",
       "3     903\n",
       "4       1\n",
       "Name: count, dtype: int64"
      ]
     },
     "execution_count": 15,
     "metadata": {},
     "output_type": "execute_result"
    }
   ],
   "source": [
    "# Quick inspection\n",
    "contractdata_df['Key'].value_counts()"
   ]
  },
  {
   "cell_type": "markdown",
   "id": "8c211c4d-d9d1-4b17-b0c7-4ed67eead8cf",
   "metadata": {},
   "source": [
    "# Convert all date columns to datetime"
   ]
  },
  {
   "cell_type": "code",
   "execution_count": 16,
   "id": "1e695b5d-eeba-43d1-a6c9-2331ff083ae8",
   "metadata": {},
   "outputs": [
    {
     "name": "stdout",
     "output_type": "stream",
     "text": [
      "Contract_Start_Date           1051\n",
      "Expected_Contract_End_Date     424\n",
      "Actual_Contract_End_Date      6781\n",
      "dtype: int64\n"
     ]
    },
    {
     "name": "stderr",
     "output_type": "stream",
     "text": [
      "/tmp/ipykernel_18862/1113610892.py:5: SettingWithCopyWarning: \n",
      "A value is trying to be set on a copy of a slice from a DataFrame.\n",
      "Try using .loc[row_indexer,col_indexer] = value instead\n",
      "\n",
      "See the caveats in the documentation: https://pandas.pydata.org/pandas-docs/stable/user_guide/indexing.html#returning-a-view-versus-a-copy\n",
      "  contracts_linked[col] = pd.to_datetime(contracts_linked[col], errors='coerce')\n",
      "/tmp/ipykernel_18862/1113610892.py:5: SettingWithCopyWarning: \n",
      "A value is trying to be set on a copy of a slice from a DataFrame.\n",
      "Try using .loc[row_indexer,col_indexer] = value instead\n",
      "\n",
      "See the caveats in the documentation: https://pandas.pydata.org/pandas-docs/stable/user_guide/indexing.html#returning-a-view-versus-a-copy\n",
      "  contracts_linked[col] = pd.to_datetime(contracts_linked[col], errors='coerce')\n",
      "/tmp/ipykernel_18862/1113610892.py:5: UserWarning: Could not infer format, so each element will be parsed individually, falling back to `dateutil`. To ensure parsing is consistent and as-expected, please specify a format.\n",
      "  contracts_linked[col] = pd.to_datetime(contracts_linked[col], errors='coerce')\n",
      "/tmp/ipykernel_18862/1113610892.py:5: SettingWithCopyWarning: \n",
      "A value is trying to be set on a copy of a slice from a DataFrame.\n",
      "Try using .loc[row_indexer,col_indexer] = value instead\n",
      "\n",
      "See the caveats in the documentation: https://pandas.pydata.org/pandas-docs/stable/user_guide/indexing.html#returning-a-view-versus-a-copy\n",
      "  contracts_linked[col] = pd.to_datetime(contracts_linked[col], errors='coerce')\n"
     ]
    }
   ],
   "source": [
    "# Fix common issue by forcing datetime conversion\n",
    "date_columns = ['Contract_Start_Date', 'Expected_Contract_End_Date', 'Actual_Contract_End_Date']\n",
    "\n",
    "for col in date_columns:\n",
    "    contracts_linked[col] = pd.to_datetime(contracts_linked[col], errors='coerce')\n",
    "\n",
    "# Check how many invalid dates remain\n",
    "print(contracts_linked[date_columns].isna().sum())"
   ]
  },
  {
   "cell_type": "markdown",
   "id": "477c3bfd-f282-4d74-b3fd-16259715c1fe",
   "metadata": {},
   "source": [
    "# Clean and Extract Loan_Term as Integer"
   ]
  },
  {
   "cell_type": "code",
   "execution_count": 17,
   "id": "581ee2ce-2731-4cdb-bac3-bafd728ff712",
   "metadata": {},
   "outputs": [
    {
     "name": "stderr",
     "output_type": "stream",
     "text": [
      "/tmp/ipykernel_18862/370028962.py:2: SettingWithCopyWarning: \n",
      "A value is trying to be set on a copy of a slice from a DataFrame.\n",
      "Try using .loc[row_indexer,col_indexer] = value instead\n",
      "\n",
      "See the caveats in the documentation: https://pandas.pydata.org/pandas-docs/stable/user_guide/indexing.html#returning-a-view-versus-a-copy\n",
      "  contracts_linked['Loan_Term'] = contracts_linked['Loan_Term'].str.extract(r'(\\d+)').astype(float)\n"
     ]
    }
   ],
   "source": [
    "# Extract numeric part of loan term\n",
    "contracts_linked['Loan_Term'] = contracts_linked['Loan_Term'].str.extract(r'(\\d+)').astype(float)"
   ]
  },
  {
   "cell_type": "markdown",
   "id": "ce68bc5e-ce0b-4fdf-bf4e-1b6e39b3ad2d",
   "metadata": {},
   "source": [
    "# Handle Missing or Zero Total_Loan_Amount"
   ]
  },
  {
   "cell_type": "code",
   "execution_count": 18,
   "id": "ff20d543-8fc6-4e21-b681-0835d10bf7ad",
   "metadata": {},
   "outputs": [
    {
     "name": "stdout",
     "output_type": "stream",
     "text": [
      "Contracts with zero loan amount: 14\n"
     ]
    }
   ],
   "source": [
    "zero_loans = contracts_linked[contracts_linked['Total_Loan_Amount'] == 0]\n",
    "print(f\"Contracts with zero loan amount: {len(zero_loans)}\")"
   ]
  },
  {
   "cell_type": "code",
   "execution_count": 19,
   "id": "52e63162-c818-4fd9-bbce-27813c836a6e",
   "metadata": {},
   "outputs": [],
   "source": [
    "contracts_linked = contracts_linked[contracts_linked['Total_Loan_Amount'] > 0]"
   ]
  },
  {
   "cell_type": "code",
   "execution_count": 21,
   "id": "9219e682-9b45-499d-a3c1-aa3b074e61db",
   "metadata": {},
   "outputs": [],
   "source": [
    "contracts_linked.to_csv('clean_contracts_data.csv', index=False)"
   ]
  },
  {
   "cell_type": "code",
   "execution_count": null,
   "id": "c2c47cf2-4f3c-4ac2-8b29-b497cd1173fa",
   "metadata": {},
   "outputs": [],
   "source": []
  }
 ],
 "metadata": {
  "kernelspec": {
   "display_name": "Python 3 (ipykernel)",
   "language": "python",
   "name": "python3"
  },
  "language_info": {
   "codemirror_mode": {
    "name": "ipython",
    "version": 3
   },
   "file_extension": ".py",
   "mimetype": "text/x-python",
   "name": "python",
   "nbconvert_exporter": "python",
   "pygments_lexer": "ipython3",
   "version": "3.12.7"
  }
 },
 "nbformat": 4,
 "nbformat_minor": 5
}
