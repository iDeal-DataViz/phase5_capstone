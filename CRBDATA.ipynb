{
 "cells": [
  {
   "cell_type": "code",
   "execution_count": 1,
   "id": "8e07d2ea-01f3-4547-ae17-773502184ec0",
   "metadata": {},
   "outputs": [],
   "source": [
    "import pandas as pd"
   ]
  },
  {
   "cell_type": "code",
   "execution_count": 2,
   "id": "4e1aef6b-d527-4fad-aff6-f2d196e9055f",
   "metadata": {},
   "outputs": [],
   "source": [
    "crb_df = pd.read_csv(\"CRB Data.csv\")"
   ]
  },
  {
   "cell_type": "code",
   "execution_count": 3,
   "id": "bad5e22f-324e-4d0d-b22f-f7360e909437",
   "metadata": {},
   "outputs": [
    {
     "data": {
      "text/html": [
       "<div>\n",
       "<style scoped>\n",
       "    .dataframe tbody tr th:only-of-type {\n",
       "        vertical-align: middle;\n",
       "    }\n",
       "\n",
       "    .dataframe tbody tr th {\n",
       "        vertical-align: top;\n",
       "    }\n",
       "\n",
       "    .dataframe thead th {\n",
       "        text-align: right;\n",
       "    }\n",
       "</style>\n",
       "<table border=\"1\" class=\"dataframe\">\n",
       "  <thead>\n",
       "    <tr style=\"text-align: right;\">\n",
       "      <th></th>\n",
       "      <th>Application_ID</th>\n",
       "      <th>Application_Date</th>\n",
       "      <th>CRB Score</th>\n",
       "      <th>CRB Grade</th>\n",
       "    </tr>\n",
       "  </thead>\n",
       "  <tbody>\n",
       "    <tr>\n",
       "      <th>0</th>\n",
       "      <td>C302102137</td>\n",
       "      <td>2017-09-30</td>\n",
       "      <td>593</td>\n",
       "      <td>D</td>\n",
       "    </tr>\n",
       "    <tr>\n",
       "      <th>1</th>\n",
       "      <td>C302106175</td>\n",
       "      <td>2017-09-30</td>\n",
       "      <td>625</td>\n",
       "      <td>C</td>\n",
       "    </tr>\n",
       "    <tr>\n",
       "      <th>2</th>\n",
       "      <td>C302106175</td>\n",
       "      <td>2018-10-31</td>\n",
       "      <td>616</td>\n",
       "      <td>C</td>\n",
       "    </tr>\n",
       "    <tr>\n",
       "      <th>3</th>\n",
       "      <td>C302103572</td>\n",
       "      <td>2018-02-28</td>\n",
       "      <td>629</td>\n",
       "      <td>C</td>\n",
       "    </tr>\n",
       "    <tr>\n",
       "      <th>4</th>\n",
       "      <td>C302100598</td>\n",
       "      <td>2016-01-31</td>\n",
       "      <td>685</td>\n",
       "      <td>A</td>\n",
       "    </tr>\n",
       "  </tbody>\n",
       "</table>\n",
       "</div>"
      ],
      "text/plain": [
       "  Application_ID Application_Date  CRB Score CRB Grade\n",
       "0     C302102137       2017-09-30        593         D\n",
       "1     C302106175       2017-09-30        625         C\n",
       "2     C302106175       2018-10-31        616         C\n",
       "3     C302103572       2018-02-28        629         C\n",
       "4     C302100598       2016-01-31        685         A"
      ]
     },
     "execution_count": 3,
     "metadata": {},
     "output_type": "execute_result"
    }
   ],
   "source": [
    "crb_df.head()"
   ]
  },
  {
   "cell_type": "code",
   "execution_count": 4,
   "id": "7c431ac2-219c-4f28-a5f6-1d8cbe536b9c",
   "metadata": {},
   "outputs": [
    {
     "name": "stdout",
     "output_type": "stream",
     "text": [
      "<class 'pandas.core.frame.DataFrame'>\n",
      "RangeIndex: 6750 entries, 0 to 6749\n",
      "Data columns (total 4 columns):\n",
      " #   Column            Non-Null Count  Dtype \n",
      "---  ------            --------------  ----- \n",
      " 0   Application_ID    6750 non-null   object\n",
      " 1   Application_Date  6750 non-null   object\n",
      " 2   CRB Score         6750 non-null   int64 \n",
      " 3   CRB Grade         6750 non-null   object\n",
      "dtypes: int64(1), object(3)\n",
      "memory usage: 211.1+ KB\n"
     ]
    }
   ],
   "source": [
    "crb_df.info()"
   ]
  },
  {
   "cell_type": "code",
   "execution_count": 5,
   "id": "e14fd7df-d84d-449b-937b-50ca8377f5c3",
   "metadata": {},
   "outputs": [
    {
     "data": {
      "text/html": [
       "<div>\n",
       "<style scoped>\n",
       "    .dataframe tbody tr th:only-of-type {\n",
       "        vertical-align: middle;\n",
       "    }\n",
       "\n",
       "    .dataframe tbody tr th {\n",
       "        vertical-align: top;\n",
       "    }\n",
       "\n",
       "    .dataframe thead th {\n",
       "        text-align: right;\n",
       "    }\n",
       "</style>\n",
       "<table border=\"1\" class=\"dataframe\">\n",
       "  <thead>\n",
       "    <tr style=\"text-align: right;\">\n",
       "      <th></th>\n",
       "      <th>CRB Score</th>\n",
       "    </tr>\n",
       "  </thead>\n",
       "  <tbody>\n",
       "    <tr>\n",
       "      <th>count</th>\n",
       "      <td>6750.000000</td>\n",
       "    </tr>\n",
       "    <tr>\n",
       "      <th>mean</th>\n",
       "      <td>617.440741</td>\n",
       "    </tr>\n",
       "    <tr>\n",
       "      <th>std</th>\n",
       "      <td>133.150431</td>\n",
       "    </tr>\n",
       "    <tr>\n",
       "      <th>min</th>\n",
       "      <td>250.000000</td>\n",
       "    </tr>\n",
       "    <tr>\n",
       "      <th>25%</th>\n",
       "      <td>598.000000</td>\n",
       "    </tr>\n",
       "    <tr>\n",
       "      <th>50%</th>\n",
       "      <td>631.000000</td>\n",
       "    </tr>\n",
       "    <tr>\n",
       "      <th>75%</th>\n",
       "      <td>660.000000</td>\n",
       "    </tr>\n",
       "    <tr>\n",
       "      <th>max</th>\n",
       "      <td>999.000000</td>\n",
       "    </tr>\n",
       "  </tbody>\n",
       "</table>\n",
       "</div>"
      ],
      "text/plain": [
       "         CRB Score\n",
       "count  6750.000000\n",
       "mean    617.440741\n",
       "std     133.150431\n",
       "min     250.000000\n",
       "25%     598.000000\n",
       "50%     631.000000\n",
       "75%     660.000000\n",
       "max     999.000000"
      ]
     },
     "execution_count": 5,
     "metadata": {},
     "output_type": "execute_result"
    }
   ],
   "source": [
    "crb_df.describe()"
   ]
  },
  {
   "cell_type": "code",
   "execution_count": 6,
   "id": "e23fa468-53de-4bbd-9dc6-43bac233e8e2",
   "metadata": {},
   "outputs": [
    {
     "data": {
      "text/plain": [
       "Application_ID  Application_Date  CRB Score  CRB Grade\n",
       "C302109492      2018-05-31        515        E            1\n",
       "C302100001      2015-08-31        999        X            1\n",
       "                2018-12-31        670        B            1\n",
       "C302100002      2015-07-31        647        B            1\n",
       "C302100004      2015-10-31        250        E            1\n",
       "                                                         ..\n",
       "C302100038      2017-08-31        686        A            1\n",
       "C302100039      2017-08-31        624        C            1\n",
       "C302100040      2017-08-31        999        X            1\n",
       "                2018-05-31        606        D            1\n",
       "C302100041      2017-09-30        628        C            1\n",
       "Name: count, Length: 6750, dtype: int64"
      ]
     },
     "execution_count": 6,
     "metadata": {},
     "output_type": "execute_result"
    }
   ],
   "source": [
    "crb_df.value_counts()"
   ]
  },
  {
   "cell_type": "code",
   "execution_count": 7,
   "id": "99c51e44-a439-4646-b7f7-928154d767d2",
   "metadata": {},
   "outputs": [
    {
     "data": {
      "text/plain": [
       "0"
      ]
     },
     "execution_count": 7,
     "metadata": {},
     "output_type": "execute_result"
    }
   ],
   "source": [
    "crb_df.duplicated().sum()"
   ]
  },
  {
   "cell_type": "code",
   "execution_count": 8,
   "id": "2d000507-80b6-44b3-a66a-eb1fa8680eff",
   "metadata": {},
   "outputs": [
    {
     "data": {
      "text/plain": [
       "Application_ID      0.0\n",
       "Application_Date    0.0\n",
       "CRB Score           0.0\n",
       "CRB Grade           0.0\n",
       "dtype: float64"
      ]
     },
     "execution_count": 8,
     "metadata": {},
     "output_type": "execute_result"
    }
   ],
   "source": [
    "crb_df.isnull().sum() / len(crb_df) * 100"
   ]
  },
  {
   "cell_type": "code",
   "execution_count": 9,
   "id": "6e7bd437-9f45-4800-adbd-b420f1fd0d30",
   "metadata": {},
   "outputs": [],
   "source": [
    "# Drop Application date because it already exist on Application Data\n",
    "crb_df.drop(columns=['Application_Date'], inplace=True)  # Optional"
   ]
  },
  {
   "cell_type": "code",
   "execution_count": 10,
   "id": "2262462e-597a-4cd3-88fe-f29328d05feb",
   "metadata": {},
   "outputs": [],
   "source": [
    "crb_df.to_csv(\"clean_crb_data.csv\", index=False)"
   ]
  },
  {
   "cell_type": "code",
   "execution_count": null,
   "id": "af7fd3ad-f23a-40a2-bb36-0a57f42ae304",
   "metadata": {},
   "outputs": [],
   "source": []
  }
 ],
 "metadata": {
  "kernelspec": {
   "display_name": "Python 3 (ipykernel)",
   "language": "python",
   "name": "python3"
  },
  "language_info": {
   "codemirror_mode": {
    "name": "ipython",
    "version": 3
   },
   "file_extension": ".py",
   "mimetype": "text/x-python",
   "name": "python",
   "nbconvert_exporter": "python",
   "pygments_lexer": "ipython3",
   "version": "3.12.7"
  }
 },
 "nbformat": 4,
 "nbformat_minor": 5
}
