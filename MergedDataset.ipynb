{
 "cells": [
  {
   "cell_type": "code",
   "execution_count": 1,
   "id": "10195bc6-8e78-4d06-a095-fc198c5588bd",
   "metadata": {},
   "outputs": [],
   "source": [
    "import pandas as pd"
   ]
  },
  {
   "cell_type": "code",
   "execution_count": 2,
   "id": "6a07351d-d8fa-4dfa-899f-47a19f178b2b",
   "metadata": {},
   "outputs": [],
   "source": [
    "clean_application_df = pd.read_csv(\"clean_application_data.csv\")\n",
    "clean_contracts_df = pd.read_csv(\"clean_contracts_data.csv\")\n",
    "clean_crb_df = pd.read_csv(\"clean_crb_data.csv\")\n",
    "clean_snapshot_df = pd.read_csv(\"clean_snapshot_summary.csv\")\n",
    "clean_current_savings_df = pd.read_csv(\"clean_current_savings.csv\")"
   ]
  },
  {
   "cell_type": "markdown",
   "id": "5d8d7647-25a7-49dc-983e-c5772f2b1171",
   "metadata": {},
   "source": [
    "# Key Design Decisions Before Merging\n",
    "## What should each row represent?\n",
    "### We'll model loan default at the contract level.\n",
    "\n",
    "\n",
    "### Contract_ID ties together loan performance (ContractSnapshot), borrower profile (ApplicationData), and financial behavior (Current and Savings Account Data).\n",
    "\n",
    "### The most granular and predictive view of default is at the contract level, not just application level.\n",
    "\n"
   ]
  },
  {
   "cell_type": "markdown",
   "id": "0255364e-f6af-4a98-b2ee-0c7d54e05853",
   "metadata": {},
   "source": [
    "# Target variable come from?\n",
    "## We don’t have an explicit Loan_Default column, but we can create it from:\n",
    "\n",
    "## ContractSnapshot → If Contract Status is 'Default' or Number of Days Past Due_max exceeds a threshold (e.g., 90), then it's a default. We'll engineer it during the merge."
   ]
  },
  {
   "cell_type": "markdown",
   "id": "064dee93-d840-4bb9-bd30-d1c0356c97d6",
   "metadata": {},
   "source": [
    "## -----------------------------------------------------------------------"
   ]
  },
  {
   "cell_type": "markdown",
   "id": "19e8fc18-6d4b-4ffc-b4c6-6e8965dfaf1a",
   "metadata": {},
   "source": [
    "# Merge Contracts + ContractSnapshot\n",
    "## Merge on Contract_ID to bring in performance data."
   ]
  },
  {
   "cell_type": "code",
   "execution_count": 3,
   "id": "a37b822a-63e6-4e7f-bf77-877eb5a89c01",
   "metadata": {},
   "outputs": [],
   "source": [
    "contracts_full = clean_contracts_df.merge(\n",
    "    clean_snapshot_df,\n",
    "    on=\"Contract_ID\",\n",
    "    how=\"left\"\n",
    ")"
   ]
  },
  {
   "cell_type": "markdown",
   "id": "3678b5ad-b0ea-4f02-91a3-b3986b01c848",
   "metadata": {},
   "source": [
    "## We use left join to retain all known contracts.\n",
    "\n",
    "### Snapshot summary features like Outstanding Amount, Due Amount, and Days Past Due now attached."
   ]
  },
  {
   "cell_type": "markdown",
   "id": "785ed022-f215-4975-ae43-1e950da31ac7",
   "metadata": {},
   "source": [
    "# ---------------------------------------------------------"
   ]
  },
  {
   "cell_type": "markdown",
   "id": "4664b3ba-43c3-4193-9649-84336efea657",
   "metadata": {},
   "source": [
    "# Create Target Variable: Loan_Default"
   ]
  },
  {
   "cell_type": "markdown",
   "id": "d4730a38-e4a7-4dbc-a6d5-a40c021f1a44",
   "metadata": {},
   "source": [
    "# Loan_Default = 1 if\n",
    "## Contract_Status is \"NonAccrual\", \"Default\", etc.\n",
    "## OR Days Past Due > 90"
   ]
  },
  {
   "cell_type": "code",
   "execution_count": 4,
   "id": "55ba4d20-cf28-4b25-bed1-7015709dabfc",
   "metadata": {},
   "outputs": [],
   "source": [
    "contracts_full['Loan_Default'] = contracts_full['Contract Status_<lambda>'].apply(\n",
    "    lambda x: 1 if x in ['Default', 'NonAccrual', 'WriteOff'] else 0\n",
    ")\n",
    "\n",
    "contracts_full.loc[\n",
    "    contracts_full['Number of Days Past Due_max'] > 90,\n",
    "    'Loan_Default'\n",
    "] = 1"
   ]
  },
  {
   "cell_type": "markdown",
   "id": "cf5b9a46-c308-4cb1-b5df-b6fec562acce",
   "metadata": {},
   "source": [
    "# We will use it as a binary target variable."
   ]
  },
  {
   "cell_type": "markdown",
   "id": "314534ae-b78c-4abd-90df-f458bb004c39",
   "metadata": {},
   "source": [
    "# --------------------------------------------------------------------"
   ]
  },
  {
   "cell_type": "markdown",
   "id": "ea28333d-e5e9-4d91-ab69-acb4dcecd772",
   "metadata": {},
   "source": [
    "# Merge contracts_full + application_df"
   ]
  },
  {
   "cell_type": "code",
   "execution_count": 5,
   "id": "47cf74dd-d96a-402c-84e1-712b9d177a09",
   "metadata": {},
   "outputs": [],
   "source": [
    "merged_df = contracts_full.merge(\n",
    "    clean_application_df,\n",
    "    on=\"Application_ID\",\n",
    "    how=\"left\"\n",
    ")"
   ]
  },
  {
   "cell_type": "markdown",
   "id": "a8d9ddd8-21f9-4a64-95b3-363107dbc37d",
   "metadata": {},
   "source": [
    "## This brings in all borrower profile and engineered demographic features (age bin, income log, etc.)\n",
    "\n",
    "## Now we know who took the loan."
   ]
  },
  {
   "cell_type": "markdown",
   "id": "c4fa4af5-86ea-43bc-85db-b53eeed5ab53",
   "metadata": {},
   "source": [
    "# ------------------------------------------------------------------------------"
   ]
  },
  {
   "cell_type": "markdown",
   "id": "92ac4d44-f188-4b5a-9393-734e0981d9c7",
   "metadata": {},
   "source": [
    "# Merge + CRB Data"
   ]
  },
  {
   "cell_type": "code",
   "execution_count": 6,
   "id": "e42656e1-4180-4c27-9463-f97682a28a53",
   "metadata": {},
   "outputs": [],
   "source": [
    "merged_df = merged_df.merge(\n",
    "    clean_crb_df,\n",
    "    on=\"Application_ID\",\n",
    "    how=\"left\"\n",
    ")"
   ]
  },
  {
   "cell_type": "markdown",
   "id": "35fbe818-4c5e-48d3-a40b-04bd1d54f89f",
   "metadata": {},
   "source": [
    "# Adds CRB Score and CRB Grade to enrich creditworthiness info\n",
    "\n",
    "### Left join keeps all contracts even if CRB data is missing (e.g., no credit file)"
   ]
  },
  {
   "cell_type": "markdown",
   "id": "bd59a248-5a3d-453b-822b-a6ef0088771c",
   "metadata": {},
   "source": [
    "# ---------------------------------------------------------------------------------------"
   ]
  },
  {
   "cell_type": "markdown",
   "id": "4c74bddf-e0fc-43dc-996b-58dd5bf670fe",
   "metadata": {},
   "source": [
    "# Aggregate Banking Behavior → Then Merge\n",
    "### You should aggregate banking data by Application ID before merging."
   ]
  },
  {
   "cell_type": "code",
   "execution_count": 7,
   "id": "3a65549e-1df6-4393-a96f-d604ed8a6cc0",
   "metadata": {},
   "outputs": [],
   "source": [
    "# Example summary (customize as needed)\n",
    "bank_agg = clean_current_savings_df.groupby(\"Application ID\").agg({\n",
    "    \"Average Balance\": \"mean\",\n",
    "    \"Overdraft Limit\": \"max\",\n",
    "    \"Net_Cashflow\": \"mean\",\n",
    "    \"Liquidity_Ratio\": \"mean\",\n",
    "    \"Has_Bounced_Cheques\": \"max\"\n",
    "}).reset_index()"
   ]
  },
  {
   "cell_type": "code",
   "execution_count": 8,
   "id": "c1e28e6d-9ace-45aa-9e57-3a015a4f79bb",
   "metadata": {},
   "outputs": [],
   "source": [
    "merged_df = merged_df.merge(\n",
    "    bank_agg,\n",
    "    left_on=\"Application_ID\",\n",
    "    right_on=\"Application ID\",\n",
    "    how=\"left\"\n",
    ").drop(columns=[\"Application ID\"])  # avoid duplication"
   ]
  },
  {
   "cell_type": "markdown",
   "id": "92d4baeb-4881-43a9-b4a7-6412bc4da73b",
   "metadata": {},
   "source": [
    "# Final Cleanup\n",
    "## Drop unnecessary columns like Contract Status_<lambda>, Key\n",
    "\n",
    "## Convert any date fields if needed\n",
    "\n",
    "## Handle final missing values\n",
    "\n",
    "## Confirm the shape and nulls"
   ]
  },
  {
   "cell_type": "code",
   "execution_count": 9,
   "id": "f63a66ee-d0fd-406c-86e0-e0e5ce120998",
   "metadata": {},
   "outputs": [
    {
     "name": "stdout",
     "output_type": "stream",
     "text": [
      "Final dataset shape: (8593, 47)\n",
      "CRB Score                        0.314675\n",
      "CRB Grade                        0.314675\n",
      "Contract_Start_Date              0.131619\n",
      "Application_Date                 0.119749\n",
      "Expected_Contract_End_Date       0.058536\n",
      "Overdraft Limit                  0.003957\n",
      "Liquidity_Ratio                  0.000698\n",
      "Number of Days Past Due_mean     0.000233\n",
      "Number of Days Past Due_max      0.000233\n",
      "Number of Days Past Due_count    0.000233\n",
      "Due Amount_mean                  0.000233\n",
      "Due Amount_max                   0.000233\n",
      "Outstanding Amount_last          0.000233\n",
      "Outstanding Amount_mean          0.000233\n",
      "Outstanding Amount_max           0.000233\n",
      "dtype: float64\n"
     ]
    }
   ],
   "source": [
    "# Drop non-useful or leakage-prone columns\n",
    "drop_cols = ['Contract Status_<lambda>', 'Key', 'Actual_Contract_End_Date']\n",
    "merged_df.drop(columns=drop_cols, inplace=True, errors='ignore')\n",
    "\n",
    "# Check shape and missing values\n",
    "print(\"Final dataset shape:\", merged_df.shape)\n",
    "print(merged_df.isnull().mean().sort_values(ascending=False).head(15))"
   ]
  },
  {
   "cell_type": "code",
   "execution_count": 10,
   "id": "55cb0d3d-95f0-4c44-b694-0d0d093d9f37",
   "metadata": {},
   "outputs": [],
   "source": [
    "merged_df.to_csv(\"loan_default_dataset.csv\", index=False)"
   ]
  },
  {
   "cell_type": "markdown",
   "id": "ecc7b95d-aa6c-4f77-b8dd-82fd74c28029",
   "metadata": {},
   "source": [
    "## The final dataset now has:\n",
    "## 1 row = 1 loan contract\n",
    "\n",
    "## Features from: contract, applicant, CRB, banking behavior\n",
    "\n",
    "## Target: Loan_Default (binary)"
   ]
  },
  {
   "cell_type": "code",
   "execution_count": null,
   "id": "09608afc-85c4-4354-9653-9bfed175fec0",
   "metadata": {},
   "outputs": [],
   "source": []
  }
 ],
 "metadata": {
  "kernelspec": {
   "display_name": "Python 3 (ipykernel)",
   "language": "python",
   "name": "python3"
  },
  "language_info": {
   "codemirror_mode": {
    "name": "ipython",
    "version": 3
   },
   "file_extension": ".py",
   "mimetype": "text/x-python",
   "name": "python",
   "nbconvert_exporter": "python",
   "pygments_lexer": "ipython3",
   "version": "3.12.7"
  }
 },
 "nbformat": 4,
 "nbformat_minor": 5
}
